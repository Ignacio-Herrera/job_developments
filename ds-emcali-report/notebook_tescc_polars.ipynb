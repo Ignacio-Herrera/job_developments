{
 "cells": [
  {
   "cell_type": "markdown",
   "id": "cd759ece",
   "metadata": {},
   "source": [
    "# Python / Polars (portfolio calculation FT01.FT03)"
   ]
  },
  {
   "cell_type": "markdown",
   "id": "793e0010",
   "metadata": {},
   "source": [
    "## libs"
   ]
  },
  {
   "cell_type": "code",
   "execution_count": 65,
   "id": "cd8770a2",
   "metadata": {},
   "outputs": [],
   "source": [
    "import polars as pl\n",
    "from datetime import datetime\n",
    "from datetime import date\n",
    "import pyarrow as pa\n",
    "import pyarrow.dataset\n",
    "import random\n",
    "import string"
   ]
  },
  {
   "cell_type": "markdown",
   "id": "04d996cf",
   "metadata": {},
   "source": [
    "## user-defined functions"
   ]
  },
  {
   "cell_type": "markdown",
   "id": "46e8f315",
   "metadata": {},
   "source": [
    "### calculate tescc"
   ]
  },
  {
   "cell_type": "code",
   "execution_count": 66,
   "id": "b793058e",
   "metadata": {},
   "outputs": [],
   "source": [
    "#code"
   ]
  },
  {
   "cell_type": "markdown",
   "id": "732e6fe0",
   "metadata": {},
   "source": [
    "## read files"
   ]
  },
  {
   "cell_type": "markdown",
   "id": "a76b7226",
   "metadata": {},
   "source": [
    "### ft01"
   ]
  },
  {
   "cell_type": "code",
   "execution_count": 67,
   "id": "12d42bcc",
   "metadata": {},
   "outputs": [],
   "source": [
    "#read parquet files ft01\n",
    "ft01_or425_2016_df = pl.read_parquet(\"./files/input/remaining/ft01/*\")\n",
    "#display(ft01_or425_2016_df.head())"
   ]
  },
  {
   "cell_type": "code",
   "execution_count": 68,
   "id": "8c84ec8f",
   "metadata": {},
   "outputs": [
    {
     "data": {
      "text/html": [
       "<div><style>\n",
       ".dataframe > thead > tr > th,\n",
       ".dataframe > tbody > tr > td {\n",
       "  text-align: right;\n",
       "}\n",
       "</style>\n",
       "<small>shape: (5, 38)</small><table border=\"1\" class=\"dataframe\"><thead><tr><th>TIPO_DOCUMENTO</th><th>NUMERO_DOCUMENTO</th><th>DIGITO_VERIFICACION</th><th>PRIMER_NOMBRE_RAZON_SOCIAL</th><th>SEGUNDO_NOMBRE</th><th>PRIMER_APELLIDO</th><th>SEGUNDO_APELLIDO</th><th>NIU</th><th>NIC_CODIGO_ID</th><th>MEDIDOR</th><th>DIRECCION_ENVIO</th><th>CIUDAD_ENVIO</th><th>DIRECCION_SUMINISTRO</th><th>BARRIO_SUMINISTRO</th><th>CORREGIMIENTO_SUMINISTRO</th><th>MUNICIPIO_SUMINISTRO</th><th>MERCADO</th><th>SECTOR</th><th>DESTINO_ECONOMICO_PREDIO</th><th>ESTRATO</th><th>NUMERO_FACTURA</th><th>PERIODO_FACTURADO_INICIO</th><th>PERIODO_FACTURADO_FINAL</th><th>ANIO_VIGENCIA</th><th>PERIODO_MES</th><th>CICLO_FACTURACION</th><th>FECHA_VENCIMIENTO_FACTURA</th><th>CONSUMO_KWH</th><th>CONSUMO_KWH_SUBSIDIADO</th><th>CONSUMO_ENERGIA_SIN_SUBSIDIO</th><th>CONSUMO_ENERGIA_SUBSIDIADO</th><th>TARIFA_APLICADA_KWH</th><th>TARIFA_SUBSIDIADA_KWH</th><th>FICHA_CATASTRAL</th><th>CORREO_ELECTRONICO</th><th>OPERADOR</th><th>UVT_SMMLV</th><th>TESCC</th></tr><tr><td>str</td><td>i64</td><td>i64</td><td>str</td><td>str</td><td>str</td><td>str</td><td>i64</td><td>i64</td><td>str</td><td>str</td><td>i64</td><td>str</td><td>str</td><td>str</td><td>i64</td><td>str</td><td>str</td><td>str</td><td>i64</td><td>i64</td><td>str</td><td>str</td><td>i64</td><td>i64</td><td>i64</td><td>str</td><td>f64</td><td>f64</td><td>f64</td><td>f64</td><td>f64</td><td>f64</td><td>i64</td><td>str</td><td>i64</td><td>i32</td><td>f64</td></tr></thead><tbody><tr><td>&quot;NIT&quot;</td><td>890319982</td><td>8</td><td>&quot;COLEGIO COOPER…</td><td>null</td><td>null</td><td>null</td><td>1686181</td><td>1017843</td><td>&quot;U41A68052854&quot;</td><td>&quot;CL 18 128-233&quot;</td><td>76001</td><td>&quot;CL 18 128-233&quot;</td><td>&quot;LOS NARANJOS I…</td><td>null</td><td>76001</td><td>&quot;R&quot;</td><td>&quot;URBANO&quot;</td><td>&quot;ESPECIAL&quot;</td><td>99</td><td>337832857</td><td>&quot;09-04-2022&quot;</td><td>&quot;10-05-2022&quot;</td><td>2022</td><td>5</td><td>35</td><td>&quot;01-06-2022&quot;</td><td>4840.0</td><td>0.0</td><td>3.5215e6</td><td>3.5215e6</td><td>727.59</td><td>727.59</td><td>1</td><td>null</td><td>165</td><td>38004</td><td>59865.79257</td></tr><tr><td>&quot;NIT&quot;</td><td>890319982</td><td>8</td><td>&quot;COLEGIO COOPER…</td><td>null</td><td>null</td><td>null</td><td>1686181</td><td>1017843</td><td>&quot;U41A68052854&quot;</td><td>&quot;CL 18 128-233&quot;</td><td>76001</td><td>&quot;CL 18 128-233&quot;</td><td>&quot;LOS NARANJOS I…</td><td>null</td><td>76001</td><td>&quot;R&quot;</td><td>&quot;URBANO&quot;</td><td>&quot;ESPECIAL&quot;</td><td>99</td><td>333629402</td><td>&quot;08-02-2022&quot;</td><td>&quot;09-03-2022&quot;</td><td>2022</td><td>3</td><td>35</td><td>&quot;01-04-2022&quot;</td><td>6920.0</td><td>0.0</td><td>4.7477e6</td><td>4.7477e6</td><td>686.08</td><td>686.08</td><td>1</td><td>null</td><td>165</td><td>38004</td><td>80710.26301</td></tr><tr><td>&quot;NIT&quot;</td><td>890319982</td><td>8</td><td>&quot;COLEGIO COOPER…</td><td>null</td><td>null</td><td>null</td><td>1686188</td><td>1017845</td><td>&quot;ELEN60151808&quot;</td><td>&quot;CL 18 128-233 …</td><td>76001</td><td>&quot;CL 18 128-233 …</td><td>&quot;LOS NARANJOS I…</td><td>null</td><td>76001</td><td>&quot;R&quot;</td><td>&quot;URBANO&quot;</td><td>&quot;COMERCIAL&quot;</td><td>99</td><td>329523648</td><td>&quot;08-12-2021&quot;</td><td>&quot;06-01-2022&quot;</td><td>2022</td><td>1</td><td>35</td><td>&quot;01-02-2022&quot;</td><td>219.0</td><td>0.0</td><td>141626.14</td><td>141626.14</td><td>646.69</td><td>646.69</td><td>1</td><td>null</td><td>165</td><td>38004</td><td>2407.64438</td></tr><tr><td>&quot;NIT&quot;</td><td>890319982</td><td>8</td><td>&quot;COLEGIO COOPER…</td><td>null</td><td>null</td><td>null</td><td>1686181</td><td>1017843</td><td>&quot;U41A68052854&quot;</td><td>&quot;CL 18 128-233&quot;</td><td>76001</td><td>&quot;CL 18 128-233&quot;</td><td>&quot;LOS NARANJOS I…</td><td>null</td><td>76001</td><td>&quot;R&quot;</td><td>&quot;URBANO&quot;</td><td>&quot;ESPECIAL&quot;</td><td>99</td><td>329524124</td><td>&quot;08-12-2021&quot;</td><td>&quot;06-01-2022&quot;</td><td>2022</td><td>1</td><td>35</td><td>&quot;01-02-2022&quot;</td><td>4000.0</td><td>0.0</td><td>2586778.8</td><td>2586778.8</td><td>646.69</td><td>646.69</td><td>1</td><td>null</td><td>165</td><td>38004</td><td>43975.2396</td></tr><tr><td>&quot;NIT&quot;</td><td>890319982</td><td>8</td><td>&quot;COLEGIO COOPER…</td><td>null</td><td>null</td><td>null</td><td>1686181</td><td>1017843</td><td>&quot;U41A68052854&quot;</td><td>&quot;CL 18 128-233&quot;</td><td>76001</td><td>&quot;CL 18 128-233&quot;</td><td>&quot;LOS NARANJOS I…</td><td>null</td><td>76001</td><td>&quot;R&quot;</td><td>&quot;URBANO&quot;</td><td>&quot;ESPECIAL&quot;</td><td>99</td><td>342070010</td><td>&quot;10-06-2022&quot;</td><td>&quot;08-07-2022&quot;</td><td>2022</td><td>7</td><td>35</td><td>&quot;29-07-2022&quot;</td><td>4320.0</td><td>0.0</td><td>3391924.9</td><td>3391924.9</td><td>785.17</td><td>785.17</td><td>1</td><td>null</td><td>165</td><td>38004</td><td>57662.7233</td></tr></tbody></table></div>"
      ],
      "text/plain": [
       "shape: (5, 38)\n",
       "┌────────────┬────────────┬────────────┬────────────┬───┬────────────┬──────────┬───────────┬─────┐\n",
       "│ TIPO_DOCUM ┆ NUMERO_DOC ┆ DIGITO_VER ┆ PRIMER_NOM ┆ … ┆ CORREO_ELE ┆ OPERADOR ┆ UVT_SMMLV ┆ TES │\n",
       "│ ENTO       ┆ UMENTO     ┆ IFICACION  ┆ BRE_RAZON_ ┆   ┆ CTRONICO   ┆ ---      ┆ ---       ┆ CC  │\n",
       "│ ---        ┆ ---        ┆ ---        ┆ SOCIAL     ┆   ┆ ---        ┆ i64      ┆ i32       ┆ --- │\n",
       "│ str        ┆ i64        ┆ i64        ┆ ---        ┆   ┆ str        ┆          ┆           ┆ f64 │\n",
       "│            ┆            ┆            ┆ str        ┆   ┆            ┆          ┆           ┆     │\n",
       "╞════════════╪════════════╪════════════╪════════════╪═══╪════════════╪══════════╪═══════════╪═════╡\n",
       "│ NIT        ┆ 890319982  ┆ 8          ┆ COLEGIO    ┆ … ┆ null       ┆ 165      ┆ 38004     ┆ 598 │\n",
       "│            ┆            ┆            ┆ COOPERATIV ┆   ┆            ┆          ┆           ┆ 65. │\n",
       "│            ┆            ┆            ┆ O COOMEVA  ┆   ┆            ┆          ┆           ┆ 792 │\n",
       "│            ┆            ┆            ┆            ┆   ┆            ┆          ┆           ┆ 57  │\n",
       "│ NIT        ┆ 890319982  ┆ 8          ┆ COLEGIO    ┆ … ┆ null       ┆ 165      ┆ 38004     ┆ 807 │\n",
       "│            ┆            ┆            ┆ COOPERATIV ┆   ┆            ┆          ┆           ┆ 10. │\n",
       "│            ┆            ┆            ┆ O COOMEVA  ┆   ┆            ┆          ┆           ┆ 263 │\n",
       "│            ┆            ┆            ┆            ┆   ┆            ┆          ┆           ┆ 01  │\n",
       "│ NIT        ┆ 890319982  ┆ 8          ┆ COLEGIO    ┆ … ┆ null       ┆ 165      ┆ 38004     ┆ 240 │\n",
       "│            ┆            ┆            ┆ COOPERATIV ┆   ┆            ┆          ┆           ┆ 7.6 │\n",
       "│            ┆            ┆            ┆ O COOMEVA  ┆   ┆            ┆          ┆           ┆ 443 │\n",
       "│            ┆            ┆            ┆            ┆   ┆            ┆          ┆           ┆ 8   │\n",
       "│ NIT        ┆ 890319982  ┆ 8          ┆ COLEGIO    ┆ … ┆ null       ┆ 165      ┆ 38004     ┆ 439 │\n",
       "│            ┆            ┆            ┆ COOPERATIV ┆   ┆            ┆          ┆           ┆ 75. │\n",
       "│            ┆            ┆            ┆ O COOMEVA  ┆   ┆            ┆          ┆           ┆ 239 │\n",
       "│            ┆            ┆            ┆            ┆   ┆            ┆          ┆           ┆ 6   │\n",
       "│ NIT        ┆ 890319982  ┆ 8          ┆ COLEGIO    ┆ … ┆ null       ┆ 165      ┆ 38004     ┆ 576 │\n",
       "│            ┆            ┆            ┆ COOPERATIV ┆   ┆            ┆          ┆           ┆ 62. │\n",
       "│            ┆            ┆            ┆ O COOMEVA  ┆   ┆            ┆          ┆           ┆ 723 │\n",
       "│            ┆            ┆            ┆            ┆   ┆            ┆          ┆           ┆ 3   │\n",
       "└────────────┴────────────┴────────────┴────────────┴───┴────────────┴──────────┴───────────┴─────┘"
      ]
     },
     "metadata": {},
     "output_type": "display_data"
    }
   ],
   "source": [
    "#separate by year\n",
    "ft01_or573_2021_df = ft01_or425_2016_df.filter((pl.col(\"ANIO_VIGENCIA\") > 2021))\n",
    "#ft01_or573_2021_df.select(pl.count())\n",
    "\n",
    "#set uvt\n",
    "ft01_or573_2021_df = ft01_or573_2021_df.with_columns(pl\n",
    "                                                     .when(pl.col(\"ANIO_VIGENCIA\") > 2022)\n",
    "                                                     .then(42412)\n",
    "                                                     .otherwise(38004)\n",
    "                                                     .alias(\"UVT_SMMLV\")) #uvt +2021\n",
    "\n",
    "\n",
    "\n",
    "#TESCC post 2021\n",
    "ft01_or573_2021_df = ft01_or573_2021_df.with_columns(pl\n",
    "                                                     .when(pl.col(\"DESTINO_ECONOMICO_PREDIO\") == \"INDUSTRIAL\")\n",
    "                                                     .then(\n",
    "                                                         pl\n",
    "                                                         .when((pl.col(\"CONSUMO_ENERGIA_SIN_SUBSIDIO\") * pl.lit(0.017)) > (pl.lit(42.54) * pl.col(\"UVT_SMMLV\")))\n",
    "                                                         .then((pl.lit(42.54) * pl.col(\"UVT_SMMLV\")))\n",
    "                                                         .otherwise((pl.col(\"CONSUMO_ENERGIA_SIN_SUBSIDIO\") * pl.lit(0.017)))\n",
    "                                                     )\n",
    "\n",
    "                                                     .when(pl.col(\"DESTINO_ECONOMICO_PREDIO\") == \"COMERCIAL\")\n",
    "                                                     .then(\n",
    "                                                         pl\n",
    "                                                         .when((pl.col(\"CONSUMO_ENERGIA_SIN_SUBSIDIO\") * pl.lit(0.017)) > (pl.lit(35) * pl.col(\"UVT_SMMLV\")))\n",
    "                                                         .then((pl.lit(35) * pl.col(\"UVT_SMMLV\")))\n",
    "                                                         .otherwise((pl.col(\"CONSUMO_ENERGIA_SIN_SUBSIDIO\") * pl.lit(0.017)))\n",
    "                                                     )\n",
    "                                                     .when(pl.col(\"DESTINO_ECONOMICO_PREDIO\") == \"ESPECIAL\")\n",
    "                                                     .then(pl.lit(0.017) * pl.col(\"CONSUMO_ENERGIA_SIN_SUBSIDIO\"))\n",
    "                                                     .when(pl.col(\"DESTINO_ECONOMICO_PREDIO\") == \"OTROS\")\n",
    "                                                     .then(pl.lit(0.017) * pl.col(\"CONSUMO_ENERGIA_SIN_SUBSIDIO\"))\n",
    "                                                     .when(pl.col(\"DESTINO_ECONOMICO_PREDIO\") == \"OFICIAL - PUBLICO\")\n",
    "                                                     .then(pl.lit(0.01) * pl.col(\"CONSUMO_ENERGIA_SIN_SUBSIDIO\"))\n",
    "                                                     .when(pl.col(\"DESTINO_ECONOMICO_PREDIO\") == \"ESTRATO 4\")\n",
    "                                                     .then(pl.lit(0.01) * pl.col(\"CONSUMO_ENERGIA_SIN_SUBSIDIO\"))\n",
    "                                                     .when(pl.col(\"DESTINO_ECONOMICO_PREDIO\") == \"ESTRATO 5\")\n",
    "                                                     .then(pl.lit(0.02) * pl.col(\"CONSUMO_ENERGIA_SIN_SUBSIDIO\"))\n",
    "                                                     .when(pl.col(\"DESTINO_ECONOMICO_PREDIO\") == \"ESTRATO 6\")\n",
    "                                                     .then(pl.lit(0.02) * pl.col(\"CONSUMO_ENERGIA_SIN_SUBSIDIO\"))\n",
    "                                                     .otherwise(pl.lit(0.01) * pl.col(\"CONSUMO_ENERGIA_SIN_SUBSIDIO\")).alias(\"TESCC\"))\n",
    "\n",
    "\n",
    "#low limit uvt\n",
    "ft01_or573_2021_df = ft01_or573_2021_df.with_columns(pl\n",
    "                                                     .when(pl.col(\"TESCC\") < (pl.lit(0.05) * pl.col(\"UVT_SMMLV\")))\n",
    "                                                     .then((pl.lit(0.05) * pl.col(\"UVT_SMMLV\")))\n",
    "                                                     .otherwise(pl.col(\"TESCC\"))\n",
    "                                                     .alias(\"TESCC\"))\n",
    "\n",
    "display(ft01_or573_2021_df.head())"
   ]
  },
  {
   "cell_type": "code",
   "execution_count": 69,
   "id": "74525f4b",
   "metadata": {},
   "outputs": [
    {
     "data": {
      "text/html": [
       "<div><style>\n",
       ".dataframe > thead > tr > th,\n",
       ".dataframe > tbody > tr > td {\n",
       "  text-align: right;\n",
       "}\n",
       "</style>\n",
       "<small>shape: (2, 38)</small><table border=\"1\" class=\"dataframe\"><thead><tr><th>TIPO_DOCUMENTO</th><th>NUMERO_DOCUMENTO</th><th>DIGITO_VERIFICACION</th><th>PRIMER_NOMBRE_RAZON_SOCIAL</th><th>SEGUNDO_NOMBRE</th><th>PRIMER_APELLIDO</th><th>SEGUNDO_APELLIDO</th><th>NIU</th><th>NIC_CODIGO_ID</th><th>MEDIDOR</th><th>DIRECCION_ENVIO</th><th>CIUDAD_ENVIO</th><th>DIRECCION_SUMINISTRO</th><th>BARRIO_SUMINISTRO</th><th>CORREGIMIENTO_SUMINISTRO</th><th>MUNICIPIO_SUMINISTRO</th><th>MERCADO</th><th>SECTOR</th><th>DESTINO_ECONOMICO_PREDIO</th><th>ESTRATO</th><th>NUMERO_FACTURA</th><th>PERIODO_FACTURADO_INICIO</th><th>PERIODO_FACTURADO_FINAL</th><th>ANIO_VIGENCIA</th><th>PERIODO_MES</th><th>CICLO_FACTURACION</th><th>FECHA_VENCIMIENTO_FACTURA</th><th>CONSUMO_KWH</th><th>CONSUMO_KWH_SUBSIDIADO</th><th>CONSUMO_ENERGIA_SIN_SUBSIDIO</th><th>CONSUMO_ENERGIA_SUBSIDIADO</th><th>TARIFA_APLICADA_KWH</th><th>TARIFA_SUBSIDIADA_KWH</th><th>FICHA_CATASTRAL</th><th>CORREO_ELECTRONICO</th><th>OPERADOR</th><th>UVT_SMMLV</th><th>TESCC</th></tr><tr><td>str</td><td>i64</td><td>i64</td><td>str</td><td>str</td><td>str</td><td>str</td><td>i64</td><td>i64</td><td>str</td><td>str</td><td>i64</td><td>str</td><td>str</td><td>str</td><td>i64</td><td>str</td><td>str</td><td>str</td><td>i64</td><td>i64</td><td>str</td><td>str</td><td>i64</td><td>i64</td><td>i64</td><td>str</td><td>f64</td><td>f64</td><td>f64</td><td>f64</td><td>f64</td><td>f64</td><td>i64</td><td>str</td><td>i64</td><td>i32</td><td>f64</td></tr></thead><tbody><tr><td>&quot;NIT&quot;</td><td>890319982</td><td>8</td><td>&quot;COLEGIO COOPER…</td><td>null</td><td>null</td><td>null</td><td>1686181</td><td>1017843</td><td>&quot;U41A68052854&quot;</td><td>&quot;CL 18 128-233&quot;</td><td>76001</td><td>&quot;CL 18 128-233&quot;</td><td>&quot;LOS NARANJOS I…</td><td>null</td><td>76001</td><td>&quot;R&quot;</td><td>&quot;URBANO&quot;</td><td>&quot;ESPECIAL&quot;</td><td>99</td><td>354013788</td><td>&quot;07-01-2022&quot;</td><td>&quot;07-02-2021&quot;</td><td>2021</td><td>2</td><td>35</td><td>&quot;07-03-2022&quot;</td><td>6880.0</td><td>0.0</td><td>4.5827e6</td><td>4.5827e6</td><td>666.1</td><td>666.1</td><td>1</td><td>null</td><td>165</td><td>908526</td><td>77906.54141</td></tr><tr><td>&quot;NIT&quot;</td><td>890319982</td><td>8</td><td>&quot;COLEGIO COOPER…</td><td>null</td><td>null</td><td>null</td><td>1686181</td><td>1017843</td><td>&quot;U41A68052854&quot;</td><td>&quot;CL 18 128-233&quot;</td><td>76001</td><td>&quot;CL 18 128-233&quot;</td><td>&quot;LOS NARANJOS I…</td><td>null</td><td>76001</td><td>&quot;R&quot;</td><td>&quot;URBANO&quot;</td><td>&quot;ESPECIAL&quot;</td><td>99</td><td>335672446</td><td>&quot;10-03-2022&quot;</td><td>&quot;08-04-2021&quot;</td><td>2021</td><td>4</td><td>35</td><td>&quot;04-05-2022&quot;</td><td>6360.0</td><td>0.0</td><td>4.5816e6</td><td>4.5816e6</td><td>720.38</td><td>720.38</td><td>1</td><td>null</td><td>165</td><td>908526</td><td>77887.73431</td></tr></tbody></table></div>"
      ],
      "text/plain": [
       "shape: (2, 38)\n",
       "┌────────────┬────────────┬────────────┬────────────┬───┬────────────┬──────────┬───────────┬─────┐\n",
       "│ TIPO_DOCUM ┆ NUMERO_DOC ┆ DIGITO_VER ┆ PRIMER_NOM ┆ … ┆ CORREO_ELE ┆ OPERADOR ┆ UVT_SMMLV ┆ TES │\n",
       "│ ENTO       ┆ UMENTO     ┆ IFICACION  ┆ BRE_RAZON_ ┆   ┆ CTRONICO   ┆ ---      ┆ ---       ┆ CC  │\n",
       "│ ---        ┆ ---        ┆ ---        ┆ SOCIAL     ┆   ┆ ---        ┆ i64      ┆ i32       ┆ --- │\n",
       "│ str        ┆ i64        ┆ i64        ┆ ---        ┆   ┆ str        ┆          ┆           ┆ f64 │\n",
       "│            ┆            ┆            ┆ str        ┆   ┆            ┆          ┆           ┆     │\n",
       "╞════════════╪════════════╪════════════╪════════════╪═══╪════════════╪══════════╪═══════════╪═════╡\n",
       "│ NIT        ┆ 890319982  ┆ 8          ┆ COLEGIO    ┆ … ┆ null       ┆ 165      ┆ 908526    ┆ 779 │\n",
       "│            ┆            ┆            ┆ COOPERATIV ┆   ┆            ┆          ┆           ┆ 06. │\n",
       "│            ┆            ┆            ┆ O COOMEVA  ┆   ┆            ┆          ┆           ┆ 541 │\n",
       "│            ┆            ┆            ┆            ┆   ┆            ┆          ┆           ┆ 41  │\n",
       "│ NIT        ┆ 890319982  ┆ 8          ┆ COLEGIO    ┆ … ┆ null       ┆ 165      ┆ 908526    ┆ 778 │\n",
       "│            ┆            ┆            ┆ COOPERATIV ┆   ┆            ┆          ┆           ┆ 87. │\n",
       "│            ┆            ┆            ┆ O COOMEVA  ┆   ┆            ┆          ┆           ┆ 734 │\n",
       "│            ┆            ┆            ┆            ┆   ┆            ┆          ┆           ┆ 31  │\n",
       "└────────────┴────────────┴────────────┴────────────┴───┴────────────┴──────────┴───────────┴─────┘"
      ]
     },
     "metadata": {},
     "output_type": "display_data"
    }
   ],
   "source": [
    "#separate by year\n",
    "ft01_or425_2016_df = ft01_or425_2016_df.filter((pl.col(\"ANIO_VIGENCIA\") <= 2021))\n",
    "#ft01_or425_2016_df.select(pl.count())\n",
    "\n",
    "#set smmlv\n",
    "ft01_or425_2016_df = ft01_or425_2016_df.with_columns(pl\n",
    "                                                     .when(pl.col(\"ANIO_VIGENCIA\") == 2017)\n",
    "                                                     .then(737717)\n",
    "                                                     .when(pl.col(\"ANIO_VIGENCIA\") == 2018)\n",
    "                                                     .then(781242)\n",
    "                                                     .when(pl.col(\"ANIO_VIGENCIA\") == 2019)\n",
    "                                                     .then(828116)\n",
    "                                                     .when(pl.col(\"ANIO_VIGENCIA\") == 2020)\n",
    "                                                     .then(877803)\n",
    "                                                     .when(pl.col(\"ANIO_VIGENCIA\") == 2021)\n",
    "                                                     .then(908526)\n",
    "                                                     .otherwise(908526).alias(\"UVT_SMMLV\")) #smmlv -2021\n",
    "\n",
    "\n",
    "#TESCC before 2021\n",
    "ft01_or425_2016_df = ft01_or425_2016_df.with_columns(pl\n",
    "                                                     .when(pl.col(\"DESTINO_ECONOMICO_PREDIO\") == \"INDUSTRIAL\")\n",
    "                                                     .then(\n",
    "                                                         pl\n",
    "                                                         .when(pl.col(\"CONSUMO_KWH\") >= 300000)\n",
    "                                                         .then(pl.lit(1.7) * pl.col(\"UVT_SMMLV\"))\n",
    "                                                         .otherwise(pl.lit(0.017) * pl.col(\"CONSUMO_ENERGIA_SIN_SUBSIDIO\"))\n",
    "                                                     )\n",
    "                                                     .when(pl.col(\"DESTINO_ECONOMICO_PREDIO\") == \"COMERCIAL\")\n",
    "                                                     .then(\n",
    "                                                         pl\n",
    "                                                         .when(pl.col(\"CONSUMO_KWH\") >= 200000)\n",
    "                                                         .then(pl.lit(1.4) * pl.col(\"UVT_SMMLV\"))\n",
    "                                                         .otherwise(pl.lit(0.017) * pl.col(\"CONSUMO_ENERGIA_SIN_SUBSIDIO\"))\n",
    "                                                     )\n",
    "                                                     .when(pl.col(\"DESTINO_ECONOMICO_PREDIO\") == \"ESPECIAL\")\n",
    "                                                     .then(pl.lit(0.017) * pl.col(\"CONSUMO_ENERGIA_SIN_SUBSIDIO\"))\n",
    "                                                     .when(pl.col(\"DESTINO_ECONOMICO_PREDIO\") == \"OTROS\")\n",
    "                                                     .then(pl.lit(0.017) * pl.col(\"CONSUMO_ENERGIA_SIN_SUBSIDIO\"))\n",
    "                                                     .when(pl.col(\"DESTINO_ECONOMICO_PREDIO\") == \"OFICIAL - PUBLICO\")\n",
    "                                                     .then(pl.lit(0.01) * pl.col(\"CONSUMO_ENERGIA_SIN_SUBSIDIO\"))\n",
    "                                                     .when(pl.col(\"DESTINO_ECONOMICO_PREDIO\") == \"ESTRATO 4\")\n",
    "                                                     .then(pl.lit(0.01) * pl.col(\"CONSUMO_ENERGIA_SIN_SUBSIDIO\"))\n",
    "                                                     .when(pl.col(\"DESTINO_ECONOMICO_PREDIO\") == \"ESTRATO 5\")\n",
    "                                                     .then(pl.lit(0.02) * pl.col(\"CONSUMO_ENERGIA_SIN_SUBSIDIO\"))\n",
    "                                                     .when(pl.col(\"DESTINO_ECONOMICO_PREDIO\") == \"ESTRATO 6\")\n",
    "                                                     .then(pl.lit(0.02) * pl.col(\"CONSUMO_ENERGIA_SIN_SUBSIDIO\"))\n",
    "                                                     .otherwise(pl.lit(0.01) * pl.col(\"CONSUMO_ENERGIA_SIN_SUBSIDIO\")).alias(\"TESCC\"))\n",
    "\n",
    "display(ft01_or425_2016_df.head())"
   ]
  },
  {
   "cell_type": "markdown",
   "id": "c4ca0d5b",
   "metadata": {},
   "source": [
    "### union ft01"
   ]
  },
  {
   "cell_type": "code",
   "execution_count": 70,
   "id": "b3d86e24",
   "metadata": {},
   "outputs": [
    {
     "data": {
      "text/html": [
       "<div><style>\n",
       ".dataframe > thead > tr > th,\n",
       ".dataframe > tbody > tr > td {\n",
       "  text-align: right;\n",
       "}\n",
       "</style>\n",
       "<small>shape: (5, 38)</small><table border=\"1\" class=\"dataframe\"><thead><tr><th>TIPO_DOCUMENTO</th><th>NUMERO_DOCUMENTO</th><th>DIGITO_VERIFICACION</th><th>PRIMER_NOMBRE_RAZON_SOCIAL</th><th>SEGUNDO_NOMBRE</th><th>PRIMER_APELLIDO</th><th>SEGUNDO_APELLIDO</th><th>NIU</th><th>NIC_CODIGO_ID</th><th>MEDIDOR</th><th>DIRECCION_ENVIO</th><th>CIUDAD_ENVIO</th><th>DIRECCION_SUMINISTRO</th><th>BARRIO_SUMINISTRO</th><th>CORREGIMIENTO_SUMINISTRO</th><th>MUNICIPIO_SUMINISTRO</th><th>MERCADO</th><th>SECTOR</th><th>DESTINO_ECONOMICO_PREDIO</th><th>ESTRATO</th><th>NUMERO_FACTURA</th><th>PERIODO_FACTURADO_INICIO</th><th>PERIODO_FACTURADO_FINAL</th><th>ANIO_VIGENCIA</th><th>PERIODO_MES</th><th>CICLO_FACTURACION</th><th>FECHA_VENCIMIENTO_FACTURA</th><th>CONSUMO_KWH</th><th>CONSUMO_KWH_SUBSIDIADO</th><th>CONSUMO_ENERGIA_SIN_SUBSIDIO</th><th>CONSUMO_ENERGIA_SUBSIDIADO</th><th>TARIFA_APLICADA_KWH</th><th>TARIFA_SUBSIDIADA_KWH</th><th>FICHA_CATASTRAL</th><th>CORREO_ELECTRONICO</th><th>OPERADOR</th><th>UVT_SMMLV</th><th>TESCC</th></tr><tr><td>str</td><td>i64</td><td>i64</td><td>str</td><td>str</td><td>str</td><td>str</td><td>i64</td><td>i64</td><td>str</td><td>str</td><td>i64</td><td>str</td><td>str</td><td>str</td><td>i64</td><td>str</td><td>str</td><td>str</td><td>i64</td><td>i64</td><td>str</td><td>str</td><td>i64</td><td>i64</td><td>i64</td><td>str</td><td>f64</td><td>f64</td><td>f64</td><td>f64</td><td>f64</td><td>f64</td><td>i64</td><td>str</td><td>i64</td><td>i32</td><td>f64</td></tr></thead><tbody><tr><td>&quot;NIT&quot;</td><td>890319982</td><td>8</td><td>&quot;COLEGIO COOPER…</td><td>null</td><td>null</td><td>null</td><td>1686181</td><td>1017843</td><td>&quot;U41A68052854&quot;</td><td>&quot;CL 18 128-233&quot;</td><td>76001</td><td>&quot;CL 18 128-233&quot;</td><td>&quot;LOS NARANJOS I…</td><td>null</td><td>76001</td><td>&quot;R&quot;</td><td>&quot;URBANO&quot;</td><td>&quot;ESPECIAL&quot;</td><td>99</td><td>354013788</td><td>&quot;07-01-2022&quot;</td><td>&quot;07-02-2021&quot;</td><td>2021</td><td>2</td><td>35</td><td>&quot;07-03-2022&quot;</td><td>6880.0</td><td>0.0</td><td>4.5827e6</td><td>4.5827e6</td><td>666.1</td><td>666.1</td><td>1</td><td>null</td><td>165</td><td>908526</td><td>77906.54141</td></tr><tr><td>&quot;NIT&quot;</td><td>890319982</td><td>8</td><td>&quot;COLEGIO COOPER…</td><td>null</td><td>null</td><td>null</td><td>1686181</td><td>1017843</td><td>&quot;U41A68052854&quot;</td><td>&quot;CL 18 128-233&quot;</td><td>76001</td><td>&quot;CL 18 128-233&quot;</td><td>&quot;LOS NARANJOS I…</td><td>null</td><td>76001</td><td>&quot;R&quot;</td><td>&quot;URBANO&quot;</td><td>&quot;ESPECIAL&quot;</td><td>99</td><td>335672446</td><td>&quot;10-03-2022&quot;</td><td>&quot;08-04-2021&quot;</td><td>2021</td><td>4</td><td>35</td><td>&quot;04-05-2022&quot;</td><td>6360.0</td><td>0.0</td><td>4.5816e6</td><td>4.5816e6</td><td>720.38</td><td>720.38</td><td>1</td><td>null</td><td>165</td><td>908526</td><td>77887.73431</td></tr><tr><td>&quot;NIT&quot;</td><td>890319982</td><td>8</td><td>&quot;COLEGIO COOPER…</td><td>null</td><td>null</td><td>null</td><td>1686181</td><td>1017843</td><td>&quot;U41A68052854&quot;</td><td>&quot;CL 18 128-233&quot;</td><td>76001</td><td>&quot;CL 18 128-233&quot;</td><td>&quot;LOS NARANJOS I…</td><td>null</td><td>76001</td><td>&quot;R&quot;</td><td>&quot;URBANO&quot;</td><td>&quot;ESPECIAL&quot;</td><td>99</td><td>337832857</td><td>&quot;09-04-2022&quot;</td><td>&quot;10-05-2022&quot;</td><td>2022</td><td>5</td><td>35</td><td>&quot;01-06-2022&quot;</td><td>4840.0</td><td>0.0</td><td>3.5215e6</td><td>3.5215e6</td><td>727.59</td><td>727.59</td><td>1</td><td>null</td><td>165</td><td>38004</td><td>59865.79257</td></tr><tr><td>&quot;NIT&quot;</td><td>890319982</td><td>8</td><td>&quot;COLEGIO COOPER…</td><td>null</td><td>null</td><td>null</td><td>1686181</td><td>1017843</td><td>&quot;U41A68052854&quot;</td><td>&quot;CL 18 128-233&quot;</td><td>76001</td><td>&quot;CL 18 128-233&quot;</td><td>&quot;LOS NARANJOS I…</td><td>null</td><td>76001</td><td>&quot;R&quot;</td><td>&quot;URBANO&quot;</td><td>&quot;ESPECIAL&quot;</td><td>99</td><td>333629402</td><td>&quot;08-02-2022&quot;</td><td>&quot;09-03-2022&quot;</td><td>2022</td><td>3</td><td>35</td><td>&quot;01-04-2022&quot;</td><td>6920.0</td><td>0.0</td><td>4.7477e6</td><td>4.7477e6</td><td>686.08</td><td>686.08</td><td>1</td><td>null</td><td>165</td><td>38004</td><td>80710.26301</td></tr><tr><td>&quot;NIT&quot;</td><td>890319982</td><td>8</td><td>&quot;COLEGIO COOPER…</td><td>null</td><td>null</td><td>null</td><td>1686188</td><td>1017845</td><td>&quot;ELEN60151808&quot;</td><td>&quot;CL 18 128-233 …</td><td>76001</td><td>&quot;CL 18 128-233 …</td><td>&quot;LOS NARANJOS I…</td><td>null</td><td>76001</td><td>&quot;R&quot;</td><td>&quot;URBANO&quot;</td><td>&quot;COMERCIAL&quot;</td><td>99</td><td>329523648</td><td>&quot;08-12-2021&quot;</td><td>&quot;06-01-2022&quot;</td><td>2022</td><td>1</td><td>35</td><td>&quot;01-02-2022&quot;</td><td>219.0</td><td>0.0</td><td>141626.14</td><td>141626.14</td><td>646.69</td><td>646.69</td><td>1</td><td>null</td><td>165</td><td>38004</td><td>2407.64438</td></tr></tbody></table></div>"
      ],
      "text/plain": [
       "shape: (5, 38)\n",
       "┌────────────┬────────────┬────────────┬────────────┬───┬────────────┬──────────┬───────────┬─────┐\n",
       "│ TIPO_DOCUM ┆ NUMERO_DOC ┆ DIGITO_VER ┆ PRIMER_NOM ┆ … ┆ CORREO_ELE ┆ OPERADOR ┆ UVT_SMMLV ┆ TES │\n",
       "│ ENTO       ┆ UMENTO     ┆ IFICACION  ┆ BRE_RAZON_ ┆   ┆ CTRONICO   ┆ ---      ┆ ---       ┆ CC  │\n",
       "│ ---        ┆ ---        ┆ ---        ┆ SOCIAL     ┆   ┆ ---        ┆ i64      ┆ i32       ┆ --- │\n",
       "│ str        ┆ i64        ┆ i64        ┆ ---        ┆   ┆ str        ┆          ┆           ┆ f64 │\n",
       "│            ┆            ┆            ┆ str        ┆   ┆            ┆          ┆           ┆     │\n",
       "╞════════════╪════════════╪════════════╪════════════╪═══╪════════════╪══════════╪═══════════╪═════╡\n",
       "│ NIT        ┆ 890319982  ┆ 8          ┆ COLEGIO    ┆ … ┆ null       ┆ 165      ┆ 908526    ┆ 779 │\n",
       "│            ┆            ┆            ┆ COOPERATIV ┆   ┆            ┆          ┆           ┆ 06. │\n",
       "│            ┆            ┆            ┆ O COOMEVA  ┆   ┆            ┆          ┆           ┆ 541 │\n",
       "│            ┆            ┆            ┆            ┆   ┆            ┆          ┆           ┆ 41  │\n",
       "│ NIT        ┆ 890319982  ┆ 8          ┆ COLEGIO    ┆ … ┆ null       ┆ 165      ┆ 908526    ┆ 778 │\n",
       "│            ┆            ┆            ┆ COOPERATIV ┆   ┆            ┆          ┆           ┆ 87. │\n",
       "│            ┆            ┆            ┆ O COOMEVA  ┆   ┆            ┆          ┆           ┆ 734 │\n",
       "│            ┆            ┆            ┆            ┆   ┆            ┆          ┆           ┆ 31  │\n",
       "│ NIT        ┆ 890319982  ┆ 8          ┆ COLEGIO    ┆ … ┆ null       ┆ 165      ┆ 38004     ┆ 598 │\n",
       "│            ┆            ┆            ┆ COOPERATIV ┆   ┆            ┆          ┆           ┆ 65. │\n",
       "│            ┆            ┆            ┆ O COOMEVA  ┆   ┆            ┆          ┆           ┆ 792 │\n",
       "│            ┆            ┆            ┆            ┆   ┆            ┆          ┆           ┆ 57  │\n",
       "│ NIT        ┆ 890319982  ┆ 8          ┆ COLEGIO    ┆ … ┆ null       ┆ 165      ┆ 38004     ┆ 807 │\n",
       "│            ┆            ┆            ┆ COOPERATIV ┆   ┆            ┆          ┆           ┆ 10. │\n",
       "│            ┆            ┆            ┆ O COOMEVA  ┆   ┆            ┆          ┆           ┆ 263 │\n",
       "│            ┆            ┆            ┆            ┆   ┆            ┆          ┆           ┆ 01  │\n",
       "│ NIT        ┆ 890319982  ┆ 8          ┆ COLEGIO    ┆ … ┆ null       ┆ 165      ┆ 38004     ┆ 240 │\n",
       "│            ┆            ┆            ┆ COOPERATIV ┆   ┆            ┆          ┆           ┆ 7.6 │\n",
       "│            ┆            ┆            ┆ O COOMEVA  ┆   ┆            ┆          ┆           ┆ 443 │\n",
       "│            ┆            ┆            ┆            ┆   ┆            ┆          ┆           ┆ 8   │\n",
       "└────────────┴────────────┴────────────┴────────────┴───┴────────────┴──────────┴───────────┴─────┘"
      ]
     },
     "metadata": {},
     "output_type": "display_data"
    }
   ],
   "source": [
    "#union ft01\n",
    "ft01_df = pl.concat([ft01_or425_2016_df, ft01_or573_2021_df])\n",
    "display(ft01_df.head())"
   ]
  },
  {
   "cell_type": "code",
   "execution_count": 71,
   "id": "7daedd5a",
   "metadata": {},
   "outputs": [],
   "source": [
    "# \n",
    "#display(ft01_df.select(\n",
    "#    [\n",
    "#        pl.format(\"{}\", pl.col(\"CONSUMO_ENERGIA_SUBSIDIADO\").round(2)),\n",
    "#        ]\n",
    "#    )\n",
    "#       )"
   ]
  },
  {
   "cell_type": "markdown",
   "id": "08256259",
   "metadata": {},
   "source": [
    "### ft03"
   ]
  },
  {
   "cell_type": "code",
   "execution_count": 72,
   "id": "889a41df",
   "metadata": {},
   "outputs": [
    {
     "data": {
      "text/html": [
       "<div><style>\n",
       ".dataframe > thead > tr > th,\n",
       ".dataframe > tbody > tr > td {\n",
       "  text-align: right;\n",
       "}\n",
       "</style>\n",
       "<small>shape: (5, 11)</small><table border=\"1\" class=\"dataframe\"><thead><tr><th>NUMERO_DOCUMENTO</th><th>DIGITO_VERIFICACION</th><th>NIU</th><th>NIC_CODIGO_ID</th><th>NUMERO_FACTURA</th><th>VALOR_FACTURADO_TASA_SEGURIDAD</th><th>VALOR_INTERESES</th><th>FECHA_LIMITE_PAGO</th><th>VALOR_RECAUDO</th><th>FECHA_RECAUDO</th><th>NUMERO_FACTURA_FT03</th></tr><tr><td>i64</td><td>str</td><td>i64</td><td>i64</td><td>i64</td><td>f64</td><td>f64</td><td>str</td><td>f64</td><td>str</td><td>i64</td></tr></thead><tbody><tr><td>16623043</td><td>null</td><td>151314</td><td>93464</td><td>354013788</td><td>0.0</td><td>0.0</td><td>&quot;18-01-2023&quot;</td><td>11.86</td><td>&quot;26-01-2023&quot;</td><td>354013788</td></tr><tr><td>2557306</td><td>null</td><td>129355</td><td>87059</td><td>354009198</td><td>0.0</td><td>0.0</td><td>&quot;18-01-2023&quot;</td><td>6183.52</td><td>&quot;26-01-2023&quot;</td><td>354009198</td></tr><tr><td>31266414</td><td>null</td><td>127938</td><td>86753</td><td>354009047</td><td>1900.2</td><td>0.0</td><td>&quot;18-01-2023&quot;</td><td>1900.2</td><td>&quot;13-01-2023&quot;</td><td>354009047</td></tr><tr><td>16625223</td><td>null</td><td>128074</td><td>86782</td><td>354009049</td><td>3844.17</td><td>0.0</td><td>&quot;18-01-2023&quot;</td><td>3844.17</td><td>&quot;18-01-2023&quot;</td><td>354009049</td></tr><tr><td>34592014</td><td>null</td><td>127956</td><td>86757</td><td>354009050</td><td>3001.41</td><td>0.0</td><td>&quot;18-01-2023&quot;</td><td>3001.41</td><td>&quot;18-01-2023&quot;</td><td>354009050</td></tr></tbody></table></div>"
      ],
      "text/plain": [
       "shape: (5, 11)\n",
       "┌────────────┬────────────┬────────┬────────────┬───┬────────────┬────────────┬────────────┬────────────┐\n",
       "│ NUMERO_DOC ┆ DIGITO_VER ┆ NIU    ┆ NIC_CODIGO ┆ … ┆ FECHA_LIMI ┆ VALOR_RECA ┆ FECHA_RECA ┆ NUMERO_FAC │\n",
       "│ UMENTO     ┆ IFICACION  ┆ ---    ┆ _ID        ┆   ┆ TE_PAGO    ┆ UDO        ┆ UDO        ┆ TURA_FT03  │\n",
       "│ ---        ┆ ---        ┆ i64    ┆ ---        ┆   ┆ ---        ┆ ---        ┆ ---        ┆ ---        │\n",
       "│ i64        ┆ str        ┆        ┆ i64        ┆   ┆ str        ┆ f64        ┆ str        ┆ i64        │\n",
       "╞════════════╪════════════╪════════╪════════════╪═══╪════════════╪════════════╪════════════╪════════════╡\n",
       "│ 16623043   ┆ null       ┆ 151314 ┆ 93464      ┆ … ┆ 18-01-2023 ┆ 11.86      ┆ 26-01-2023 ┆ 354013788  │\n",
       "│ 2557306    ┆ null       ┆ 129355 ┆ 87059      ┆ … ┆ 18-01-2023 ┆ 6183.52    ┆ 26-01-2023 ┆ 354009198  │\n",
       "│ 31266414   ┆ null       ┆ 127938 ┆ 86753      ┆ … ┆ 18-01-2023 ┆ 1900.2     ┆ 13-01-2023 ┆ 354009047  │\n",
       "│ 16625223   ┆ null       ┆ 128074 ┆ 86782      ┆ … ┆ 18-01-2023 ┆ 3844.17    ┆ 18-01-2023 ┆ 354009049  │\n",
       "│ 34592014   ┆ null       ┆ 127956 ┆ 86757      ┆ … ┆ 18-01-2023 ┆ 3001.41    ┆ 18-01-2023 ┆ 354009050  │\n",
       "└────────────┴────────────┴────────┴────────────┴───┴────────────┴────────────┴────────────┴────────────┘"
      ]
     },
     "metadata": {},
     "output_type": "display_data"
    }
   ],
   "source": [
    "#read parquet files ft03\n",
    "ft03_df = pl.read_parquet(\"./files/input/remaining/ft03/*\")\n",
    "\n",
    "ft03_df = ft03_df.with_columns(pl.col(\"NUMERO_FACTURA\").alias(\"NUMERO_FACTURA_FT03\"))\n",
    "\n",
    "display(ft03_df.head())"
   ]
  },
  {
   "cell_type": "code",
   "execution_count": null,
   "id": "c8de6cd0",
   "metadata": {},
   "outputs": [],
   "source": []
  },
  {
   "cell_type": "code",
   "execution_count": 73,
   "id": "adf9ff94",
   "metadata": {},
   "outputs": [
    {
     "data": {
      "text/html": [
       "<div><style>\n",
       ".dataframe > thead > tr > th,\n",
       ".dataframe > tbody > tr > td {\n",
       "  text-align: right;\n",
       "}\n",
       "</style>\n",
       "<small>shape: (2, 48)</small><table border=\"1\" class=\"dataframe\"><thead><tr><th>TIPO_DOCUMENTO</th><th>NUMERO_DOCUMENTO</th><th>DIGITO_VERIFICACION</th><th>PRIMER_NOMBRE_RAZON_SOCIAL</th><th>SEGUNDO_NOMBRE</th><th>PRIMER_APELLIDO</th><th>SEGUNDO_APELLIDO</th><th>NIU</th><th>NIC_CODIGO_ID</th><th>MEDIDOR</th><th>DIRECCION_ENVIO</th><th>CIUDAD_ENVIO</th><th>DIRECCION_SUMINISTRO</th><th>BARRIO_SUMINISTRO</th><th>CORREGIMIENTO_SUMINISTRO</th><th>MUNICIPIO_SUMINISTRO</th><th>MERCADO</th><th>SECTOR</th><th>DESTINO_ECONOMICO_PREDIO</th><th>ESTRATO</th><th>NUMERO_FACTURA</th><th>PERIODO_FACTURADO_INICIO</th><th>PERIODO_FACTURADO_FINAL</th><th>ANIO_VIGENCIA</th><th>PERIODO_MES</th><th>CICLO_FACTURACION</th><th>FECHA_VENCIMIENTO_FACTURA</th><th>CONSUMO_KWH</th><th>CONSUMO_KWH_SUBSIDIADO</th><th>CONSUMO_ENERGIA_SIN_SUBSIDIO</th><th>CONSUMO_ENERGIA_SUBSIDIADO</th><th>TARIFA_APLICADA_KWH</th><th>TARIFA_SUBSIDIADA_KWH</th><th>FICHA_CATASTRAL</th><th>CORREO_ELECTRONICO</th><th>OPERADOR</th><th>UVT_SMMLV</th><th>TESCC</th><th>NUMERO_DOCUMENTO_right</th><th>DIGITO_VERIFICACION_right</th><th>NIU_right</th><th>NIC_CODIGO_ID_right</th><th>VALOR_FACTURADO_TASA_SEGURIDAD</th><th>VALOR_INTERESES</th><th>FECHA_LIMITE_PAGO</th><th>VALOR_RECAUDO</th><th>FECHA_RECAUDO</th><th>NUMERO_FACTURA_FT03</th></tr><tr><td>str</td><td>i64</td><td>i64</td><td>str</td><td>str</td><td>str</td><td>str</td><td>i64</td><td>i64</td><td>str</td><td>str</td><td>i64</td><td>str</td><td>str</td><td>str</td><td>i64</td><td>str</td><td>str</td><td>str</td><td>i64</td><td>i64</td><td>str</td><td>str</td><td>i64</td><td>i64</td><td>i64</td><td>str</td><td>f64</td><td>f64</td><td>f64</td><td>f64</td><td>f64</td><td>f64</td><td>i64</td><td>str</td><td>i64</td><td>i32</td><td>f64</td><td>i64</td><td>str</td><td>i64</td><td>i64</td><td>f64</td><td>f64</td><td>str</td><td>f64</td><td>str</td><td>i64</td></tr></thead><tbody><tr><td>&quot;NIT&quot;</td><td>890319982</td><td>8</td><td>&quot;COLEGIO COOPER…</td><td>null</td><td>null</td><td>null</td><td>1686181</td><td>1017843</td><td>&quot;U41A68052854&quot;</td><td>&quot;CL 18 128-233&quot;</td><td>76001</td><td>&quot;CL 18 128-233&quot;</td><td>&quot;LOS NARANJOS I…</td><td>null</td><td>76001</td><td>&quot;R&quot;</td><td>&quot;URBANO&quot;</td><td>&quot;ESPECIAL&quot;</td><td>99</td><td>354013788</td><td>&quot;07-01-2022&quot;</td><td>&quot;07-02-2021&quot;</td><td>2021</td><td>2</td><td>35</td><td>&quot;07-03-2022&quot;</td><td>6880.0</td><td>0.0</td><td>4.5827e6</td><td>4.5827e6</td><td>666.1</td><td>666.1</td><td>1</td><td>null</td><td>165</td><td>908526</td><td>77906.54141</td><td>16623043</td><td>null</td><td>151314</td><td>93464</td><td>0.0</td><td>0.0</td><td>&quot;18-01-2023&quot;</td><td>11.86</td><td>&quot;26-01-2023&quot;</td><td>354013788</td></tr><tr><td>&quot;NIT&quot;</td><td>890319982</td><td>8</td><td>&quot;COLEGIO COOPER…</td><td>null</td><td>null</td><td>null</td><td>1686181</td><td>1017843</td><td>&quot;U41A68052854&quot;</td><td>&quot;CL 18 128-233&quot;</td><td>76001</td><td>&quot;CL 18 128-233&quot;</td><td>&quot;LOS NARANJOS I…</td><td>null</td><td>76001</td><td>&quot;R&quot;</td><td>&quot;URBANO&quot;</td><td>&quot;ESPECIAL&quot;</td><td>99</td><td>354013788</td><td>&quot;07-01-2022&quot;</td><td>&quot;07-02-2021&quot;</td><td>2021</td><td>2</td><td>35</td><td>&quot;07-03-2022&quot;</td><td>6880.0</td><td>0.0</td><td>4.5827e6</td><td>4.5827e6</td><td>666.1</td><td>666.1</td><td>1</td><td>null</td><td>165</td><td>908526</td><td>77906.54141</td><td>16623043</td><td>null</td><td>151314</td><td>93464</td><td>1900.2</td><td>0.0</td><td>&quot;18-01-2023&quot;</td><td>1888.34</td><td>&quot;06-01-2023&quot;</td><td>354013788</td></tr></tbody></table></div>"
      ],
      "text/plain": [
       "shape: (2, 48)\n",
       "┌────────────┬────────────┬────────────┬────────────┬───┬────────────┬────────────┬────────────┬────────────┐\n",
       "│ TIPO_DOCUM ┆ NUMERO_DOC ┆ DIGITO_VER ┆ PRIMER_NOM ┆ … ┆ FECHA_LIMI ┆ VALOR_RECA ┆ FECHA_RECA ┆ NUMERO_FAC │\n",
       "│ ENTO       ┆ UMENTO     ┆ IFICACION  ┆ BRE_RAZON_ ┆   ┆ TE_PAGO    ┆ UDO        ┆ UDO        ┆ TURA_FT03  │\n",
       "│ ---        ┆ ---        ┆ ---        ┆ SOCIAL     ┆   ┆ ---        ┆ ---        ┆ ---        ┆ ---        │\n",
       "│ str        ┆ i64        ┆ i64        ┆ ---        ┆   ┆ str        ┆ f64        ┆ str        ┆ i64        │\n",
       "│            ┆            ┆            ┆ str        ┆   ┆            ┆            ┆            ┆            │\n",
       "╞════════════╪════════════╪════════════╪════════════╪═══╪════════════╪════════════╪════════════╪════════════╡\n",
       "│ NIT        ┆ 890319982  ┆ 8          ┆ COLEGIO    ┆ … ┆ 18-01-2023 ┆ 11.86      ┆ 26-01-2023 ┆ 354013788  │\n",
       "│            ┆            ┆            ┆ COOPERATIV ┆   ┆            ┆            ┆            ┆            │\n",
       "│            ┆            ┆            ┆ O COOMEVA  ┆   ┆            ┆            ┆            ┆            │\n",
       "│ NIT        ┆ 890319982  ┆ 8          ┆ COLEGIO    ┆ … ┆ 18-01-2023 ┆ 1888.34    ┆ 06-01-2023 ┆ 354013788  │\n",
       "│            ┆            ┆            ┆ COOPERATIV ┆   ┆            ┆            ┆            ┆            │\n",
       "│            ┆            ┆            ┆ O COOMEVA  ┆   ┆            ┆            ┆            ┆            │\n",
       "└────────────┴────────────┴────────────┴────────────┴───┴────────────┴────────────┴────────────┴────────────┘"
      ]
     },
     "metadata": {},
     "output_type": "display_data"
    }
   ],
   "source": [
    "# report\n",
    "df_report = ft01_df.join(ft03_df, on=\"NUMERO_FACTURA\")\n",
    "display(df_report.head())"
   ]
  },
  {
   "cell_type": "code",
   "execution_count": 74,
   "id": "cf62ab7b",
   "metadata": {},
   "outputs": [],
   "source": [
    "#saldo cartera\n",
    "df_report = df_report.with_columns((pl.col(\"TESCC\") - pl.col(\"VALOR_RECAUDO\")).alias('CARTERA FT01-FT03'))\n"
   ]
  },
  {
   "cell_type": "code",
   "execution_count": 75,
   "id": "44ff86b3",
   "metadata": {},
   "outputs": [
    {
     "data": {
      "text/html": [
       "<div><style>\n",
       ".dataframe > thead > tr > th,\n",
       ".dataframe > tbody > tr > td {\n",
       "  text-align: right;\n",
       "}\n",
       "</style>\n",
       "<small>shape: (2, 49)</small><table border=\"1\" class=\"dataframe\"><thead><tr><th>TIPO_DOCUMENTO</th><th>NUMERO_DOCUMENTO</th><th>DIGITO_VERIFICACION</th><th>PRIMER_NOMBRE_RAZON_SOCIAL</th><th>SEGUNDO_NOMBRE</th><th>PRIMER_APELLIDO</th><th>SEGUNDO_APELLIDO</th><th>NIU</th><th>NIC_CODIGO_ID</th><th>MEDIDOR</th><th>DIRECCION_ENVIO</th><th>CIUDAD_ENVIO</th><th>DIRECCION_SUMINISTRO</th><th>BARRIO_SUMINISTRO</th><th>CORREGIMIENTO_SUMINISTRO</th><th>MUNICIPIO_SUMINISTRO</th><th>MERCADO</th><th>SECTOR</th><th>DESTINO_ECONOMICO_PREDIO</th><th>ESTRATO</th><th>NUMERO_FACTURA</th><th>PERIODO_FACTURADO_INICIO</th><th>PERIODO_FACTURADO_FINAL</th><th>ANIO_VIGENCIA</th><th>PERIODO_MES</th><th>CICLO_FACTURACION</th><th>FECHA_VENCIMIENTO_FACTURA</th><th>CONSUMO_KWH</th><th>CONSUMO_KWH_SUBSIDIADO</th><th>CONSUMO_ENERGIA_SIN_SUBSIDIO</th><th>CONSUMO_ENERGIA_SUBSIDIADO</th><th>TARIFA_APLICADA_KWH</th><th>TARIFA_SUBSIDIADA_KWH</th><th>FICHA_CATASTRAL</th><th>CORREO_ELECTRONICO</th><th>OPERADOR</th><th>UVT_SMMLV</th><th>TESCC</th><th>NUMERO_DOCUMENTO_right</th><th>DIGITO_VERIFICACION_right</th><th>NIU_right</th><th>NIC_CODIGO_ID_right</th><th>VALOR_FACTURADO_TASA_SEGURIDAD</th><th>VALOR_INTERESES</th><th>FECHA_LIMITE_PAGO</th><th>VALOR_RECAUDO</th><th>FECHA_RECAUDO</th><th>NUMERO_FACTURA_FT03</th><th>CARTERA FT01-FT03</th></tr><tr><td>str</td><td>i64</td><td>i64</td><td>str</td><td>str</td><td>str</td><td>str</td><td>i64</td><td>i64</td><td>str</td><td>str</td><td>i64</td><td>str</td><td>str</td><td>str</td><td>i64</td><td>str</td><td>str</td><td>str</td><td>i64</td><td>i64</td><td>str</td><td>str</td><td>i64</td><td>i64</td><td>i64</td><td>str</td><td>f64</td><td>f64</td><td>f64</td><td>f64</td><td>f64</td><td>f64</td><td>i64</td><td>str</td><td>i64</td><td>i32</td><td>f64</td><td>i64</td><td>str</td><td>i64</td><td>i64</td><td>f64</td><td>f64</td><td>str</td><td>f64</td><td>str</td><td>i64</td><td>f64</td></tr></thead><tbody><tr><td>&quot;NIT&quot;</td><td>890319982</td><td>8</td><td>&quot;COLEGIO COOPER…</td><td>null</td><td>null</td><td>null</td><td>1686181</td><td>1017843</td><td>&quot;U41A68052854&quot;</td><td>&quot;CL 18 128-233&quot;</td><td>76001</td><td>&quot;CL 18 128-233&quot;</td><td>&quot;LOS NARANJOS I…</td><td>null</td><td>76001</td><td>&quot;R&quot;</td><td>&quot;URBANO&quot;</td><td>&quot;ESPECIAL&quot;</td><td>99</td><td>354013788</td><td>&quot;07-01-2022&quot;</td><td>&quot;07-02-2021&quot;</td><td>2021</td><td>2</td><td>35</td><td>&quot;07-03-2022&quot;</td><td>6880.0</td><td>0.0</td><td>4.5827e6</td><td>4.5827e6</td><td>666.1</td><td>666.1</td><td>1</td><td>null</td><td>165</td><td>908526</td><td>77906.54141</td><td>16623043</td><td>null</td><td>151314</td><td>93464</td><td>0.0</td><td>0.0</td><td>&quot;18-01-2023&quot;</td><td>11.86</td><td>&quot;26-01-2023&quot;</td><td>354013788</td><td>77894.68141</td></tr><tr><td>&quot;NIT&quot;</td><td>890319982</td><td>8</td><td>&quot;COLEGIO COOPER…</td><td>null</td><td>null</td><td>null</td><td>1686181</td><td>1017843</td><td>&quot;U41A68052854&quot;</td><td>&quot;CL 18 128-233&quot;</td><td>76001</td><td>&quot;CL 18 128-233&quot;</td><td>&quot;LOS NARANJOS I…</td><td>null</td><td>76001</td><td>&quot;R&quot;</td><td>&quot;URBANO&quot;</td><td>&quot;ESPECIAL&quot;</td><td>99</td><td>354013788</td><td>&quot;07-01-2022&quot;</td><td>&quot;07-02-2021&quot;</td><td>2021</td><td>2</td><td>35</td><td>&quot;07-03-2022&quot;</td><td>6880.0</td><td>0.0</td><td>4.5827e6</td><td>4.5827e6</td><td>666.1</td><td>666.1</td><td>1</td><td>null</td><td>165</td><td>908526</td><td>77906.54141</td><td>16623043</td><td>null</td><td>151314</td><td>93464</td><td>1900.2</td><td>0.0</td><td>&quot;18-01-2023&quot;</td><td>1888.34</td><td>&quot;06-01-2023&quot;</td><td>354013788</td><td>76018.20141</td></tr></tbody></table></div>"
      ],
      "text/plain": [
       "shape: (2, 49)\n",
       "┌────────────┬────────────┬────────────┬────────────┬───┬────────────┬────────────┬────────────┬────────────┐\n",
       "│ TIPO_DOCUM ┆ NUMERO_DOC ┆ DIGITO_VER ┆ PRIMER_NOM ┆ … ┆ VALOR_RECA ┆ FECHA_RECA ┆ NUMERO_FAC ┆ CARTERA    │\n",
       "│ ENTO       ┆ UMENTO     ┆ IFICACION  ┆ BRE_RAZON_ ┆   ┆ UDO        ┆ UDO        ┆ TURA_FT03  ┆ FT01-FT03  │\n",
       "│ ---        ┆ ---        ┆ ---        ┆ SOCIAL     ┆   ┆ ---        ┆ ---        ┆ ---        ┆ ---        │\n",
       "│ str        ┆ i64        ┆ i64        ┆ ---        ┆   ┆ f64        ┆ str        ┆ i64        ┆ f64        │\n",
       "│            ┆            ┆            ┆ str        ┆   ┆            ┆            ┆            ┆            │\n",
       "╞════════════╪════════════╪════════════╪════════════╪═══╪════════════╪════════════╪════════════╪════════════╡\n",
       "│ NIT        ┆ 890319982  ┆ 8          ┆ COLEGIO    ┆ … ┆ 11.86      ┆ 26-01-2023 ┆ 354013788  ┆ 77894.6814 │\n",
       "│            ┆            ┆            ┆ COOPERATIV ┆   ┆            ┆            ┆            ┆ 1          │\n",
       "│            ┆            ┆            ┆ O COOMEVA  ┆   ┆            ┆            ┆            ┆            │\n",
       "│ NIT        ┆ 890319982  ┆ 8          ┆ COLEGIO    ┆ … ┆ 1888.34    ┆ 06-01-2023 ┆ 354013788  ┆ 76018.2014 │\n",
       "│            ┆            ┆            ┆ COOPERATIV ┆   ┆            ┆            ┆            ┆ 1          │\n",
       "│            ┆            ┆            ┆ O COOMEVA  ┆   ┆            ┆            ┆            ┆            │\n",
       "└────────────┴────────────┴────────────┴────────────┴───┴────────────┴────────────┴────────────┴────────────┘"
      ]
     },
     "metadata": {},
     "output_type": "display_data"
    }
   ],
   "source": [
    "display(df_report.head())"
   ]
  },
  {
   "cell_type": "code",
   "execution_count": 76,
   "id": "990d8fe6",
   "metadata": {},
   "outputs": [
    {
     "data": {
      "text/html": [
       "<div><style>\n",
       ".dataframe > thead > tr > th,\n",
       ".dataframe > tbody > tr > td {\n",
       "  text-align: right;\n",
       "}\n",
       "</style>\n",
       "<small>shape: (7, 48)</small><table border=\"1\" class=\"dataframe\"><thead><tr><th>TIPO_DOCUMENTO</th><th>NUMERO_DOCUMENTO</th><th>DIGITO_VERIFICACION</th><th>PRIMER_NOMBRE_RAZON_SOCIAL</th><th>SEGUNDO_NOMBRE</th><th>PRIMER_APELLIDO</th><th>SEGUNDO_APELLIDO</th><th>NIU</th><th>NIC_CODIGO_ID</th><th>MEDIDOR</th><th>DIRECCION_ENVIO</th><th>CIUDAD_ENVIO</th><th>DIRECCION_SUMINISTRO</th><th>BARRIO_SUMINISTRO</th><th>CORREGIMIENTO_SUMINISTRO</th><th>MUNICIPIO_SUMINISTRO</th><th>MERCADO</th><th>SECTOR</th><th>DESTINO_ECONOMICO_PREDIO</th><th>ESTRATO</th><th>NUMERO_FACTURA</th><th>PERIODO_FACTURADO_INICIO</th><th>PERIODO_FACTURADO_FINAL</th><th>ANIO_VIGENCIA</th><th>PERIODO_MES</th><th>CICLO_FACTURACION</th><th>FECHA_VENCIMIENTO_FACTURA</th><th>CONSUMO_KWH</th><th>CONSUMO_KWH_SUBSIDIADO</th><th>CONSUMO_ENERGIA_SIN_SUBSIDIO</th><th>CONSUMO_ENERGIA_SUBSIDIADO</th><th>TARIFA_APLICADA_KWH</th><th>TARIFA_SUBSIDIADA_KWH</th><th>FICHA_CATASTRAL</th><th>CORREO_ELECTRONICO</th><th>OPERADOR</th><th>UVT_SMMLV</th><th>TESCC</th><th>NUMERO_DOCUMENTO_right</th><th>DIGITO_VERIFICACION_right</th><th>NIU_right</th><th>NIC_CODIGO_ID_right</th><th>VALOR_FACTURADO_TASA_SEGURIDAD</th><th>VALOR_INTERESES</th><th>FECHA_LIMITE_PAGO</th><th>VALOR_RECAUDO</th><th>FECHA_RECAUDO</th><th>NUMERO_FACTURA_FT03</th></tr><tr><td>str</td><td>i64</td><td>i64</td><td>str</td><td>str</td><td>str</td><td>str</td><td>i64</td><td>i64</td><td>str</td><td>str</td><td>i64</td><td>str</td><td>str</td><td>str</td><td>i64</td><td>str</td><td>str</td><td>str</td><td>i64</td><td>i64</td><td>str</td><td>str</td><td>i64</td><td>i64</td><td>i64</td><td>str</td><td>f64</td><td>f64</td><td>f64</td><td>f64</td><td>f64</td><td>f64</td><td>i64</td><td>str</td><td>i64</td><td>i32</td><td>f64</td><td>i64</td><td>str</td><td>i64</td><td>i64</td><td>f64</td><td>f64</td><td>str</td><td>f64</td><td>str</td><td>i64</td></tr></thead><tbody><tr><td>&quot;NIT&quot;</td><td>890319982</td><td>8</td><td>&quot;COLEGIO COOPER…</td><td>null</td><td>null</td><td>null</td><td>1686181</td><td>1017843</td><td>&quot;U41A68052854&quot;</td><td>&quot;CL 18 128-233&quot;</td><td>76001</td><td>&quot;CL 18 128-233&quot;</td><td>&quot;LOS NARANJOS I…</td><td>null</td><td>76001</td><td>&quot;R&quot;</td><td>&quot;URBANO&quot;</td><td>&quot;ESPECIAL&quot;</td><td>99</td><td>335672446</td><td>&quot;10-03-2022&quot;</td><td>&quot;08-04-2021&quot;</td><td>2021</td><td>4</td><td>35</td><td>&quot;04-05-2022&quot;</td><td>6360.0</td><td>0.0</td><td>4.5816e6</td><td>4.5816e6</td><td>720.38</td><td>720.38</td><td>1</td><td>null</td><td>165</td><td>908526</td><td>77887.73431</td><td>null</td><td>null</td><td>null</td><td>null</td><td>null</td><td>null</td><td>null</td><td>null</td><td>null</td><td>null</td></tr><tr><td>&quot;NIT&quot;</td><td>890319982</td><td>8</td><td>&quot;COLEGIO COOPER…</td><td>null</td><td>null</td><td>null</td><td>1686181</td><td>1017843</td><td>&quot;U41A68052854&quot;</td><td>&quot;CL 18 128-233&quot;</td><td>76001</td><td>&quot;CL 18 128-233&quot;</td><td>&quot;LOS NARANJOS I…</td><td>null</td><td>76001</td><td>&quot;R&quot;</td><td>&quot;URBANO&quot;</td><td>&quot;ESPECIAL&quot;</td><td>99</td><td>337832857</td><td>&quot;09-04-2022&quot;</td><td>&quot;10-05-2022&quot;</td><td>2022</td><td>5</td><td>35</td><td>&quot;01-06-2022&quot;</td><td>4840.0</td><td>0.0</td><td>3.5215e6</td><td>3.5215e6</td><td>727.59</td><td>727.59</td><td>1</td><td>null</td><td>165</td><td>38004</td><td>59865.79257</td><td>null</td><td>null</td><td>null</td><td>null</td><td>null</td><td>null</td><td>null</td><td>null</td><td>null</td><td>null</td></tr><tr><td>&quot;NIT&quot;</td><td>890319982</td><td>8</td><td>&quot;COLEGIO COOPER…</td><td>null</td><td>null</td><td>null</td><td>1686181</td><td>1017843</td><td>&quot;U41A68052854&quot;</td><td>&quot;CL 18 128-233&quot;</td><td>76001</td><td>&quot;CL 18 128-233&quot;</td><td>&quot;LOS NARANJOS I…</td><td>null</td><td>76001</td><td>&quot;R&quot;</td><td>&quot;URBANO&quot;</td><td>&quot;ESPECIAL&quot;</td><td>99</td><td>333629402</td><td>&quot;08-02-2022&quot;</td><td>&quot;09-03-2022&quot;</td><td>2022</td><td>3</td><td>35</td><td>&quot;01-04-2022&quot;</td><td>6920.0</td><td>0.0</td><td>4.7477e6</td><td>4.7477e6</td><td>686.08</td><td>686.08</td><td>1</td><td>null</td><td>165</td><td>38004</td><td>80710.26301</td><td>null</td><td>null</td><td>null</td><td>null</td><td>null</td><td>null</td><td>null</td><td>null</td><td>null</td><td>null</td></tr><tr><td>&quot;NIT&quot;</td><td>890319982</td><td>8</td><td>&quot;COLEGIO COOPER…</td><td>null</td><td>null</td><td>null</td><td>1686188</td><td>1017845</td><td>&quot;ELEN60151808&quot;</td><td>&quot;CL 18 128-233 …</td><td>76001</td><td>&quot;CL 18 128-233 …</td><td>&quot;LOS NARANJOS I…</td><td>null</td><td>76001</td><td>&quot;R&quot;</td><td>&quot;URBANO&quot;</td><td>&quot;COMERCIAL&quot;</td><td>99</td><td>329523648</td><td>&quot;08-12-2021&quot;</td><td>&quot;06-01-2022&quot;</td><td>2022</td><td>1</td><td>35</td><td>&quot;01-02-2022&quot;</td><td>219.0</td><td>0.0</td><td>141626.14</td><td>141626.14</td><td>646.69</td><td>646.69</td><td>1</td><td>null</td><td>165</td><td>38004</td><td>2407.64438</td><td>null</td><td>null</td><td>null</td><td>null</td><td>null</td><td>null</td><td>null</td><td>null</td><td>null</td><td>null</td></tr><tr><td>&quot;NIT&quot;</td><td>890319982</td><td>8</td><td>&quot;COLEGIO COOPER…</td><td>null</td><td>null</td><td>null</td><td>1686181</td><td>1017843</td><td>&quot;U41A68052854&quot;</td><td>&quot;CL 18 128-233&quot;</td><td>76001</td><td>&quot;CL 18 128-233&quot;</td><td>&quot;LOS NARANJOS I…</td><td>null</td><td>76001</td><td>&quot;R&quot;</td><td>&quot;URBANO&quot;</td><td>&quot;ESPECIAL&quot;</td><td>99</td><td>329524124</td><td>&quot;08-12-2021&quot;</td><td>&quot;06-01-2022&quot;</td><td>2022</td><td>1</td><td>35</td><td>&quot;01-02-2022&quot;</td><td>4000.0</td><td>0.0</td><td>2586778.8</td><td>2586778.8</td><td>646.69</td><td>646.69</td><td>1</td><td>null</td><td>165</td><td>38004</td><td>43975.2396</td><td>null</td><td>null</td><td>null</td><td>null</td><td>null</td><td>null</td><td>null</td><td>null</td><td>null</td><td>null</td></tr><tr><td>&quot;NIT&quot;</td><td>890319982</td><td>8</td><td>&quot;COLEGIO COOPER…</td><td>null</td><td>null</td><td>null</td><td>1686181</td><td>1017843</td><td>&quot;U41A68052854&quot;</td><td>&quot;CL 18 128-233&quot;</td><td>76001</td><td>&quot;CL 18 128-233&quot;</td><td>&quot;LOS NARANJOS I…</td><td>null</td><td>76001</td><td>&quot;R&quot;</td><td>&quot;URBANO&quot;</td><td>&quot;ESPECIAL&quot;</td><td>99</td><td>342070010</td><td>&quot;10-06-2022&quot;</td><td>&quot;08-07-2022&quot;</td><td>2022</td><td>7</td><td>35</td><td>&quot;29-07-2022&quot;</td><td>4320.0</td><td>0.0</td><td>3391924.9</td><td>3391924.9</td><td>785.17</td><td>785.17</td><td>1</td><td>null</td><td>165</td><td>38004</td><td>57662.7233</td><td>null</td><td>null</td><td>null</td><td>null</td><td>null</td><td>null</td><td>null</td><td>null</td><td>null</td><td>null</td></tr><tr><td>&quot;NIT&quot;</td><td>890319982</td><td>8</td><td>&quot;COLEGIO COOPER…</td><td>null</td><td>null</td><td>null</td><td>1686181</td><td>1017843</td><td>&quot;U41A68052854&quot;</td><td>&quot;CL 18 128-233&quot;</td><td>76001</td><td>&quot;CL 18 128-233&quot;</td><td>&quot;LOS NARANJOS I…</td><td>null</td><td>76001</td><td>&quot;R&quot;</td><td>&quot;URBANO&quot;</td><td>&quot;ESPECIAL&quot;</td><td>99</td><td>339986132</td><td>&quot;11-05-2022&quot;</td><td>&quot;09-06-2022&quot;</td><td>2022</td><td>6</td><td>35</td><td>&quot;06-07-2022&quot;</td><td>5360.0</td><td>0.0</td><td>4.0949e6</td><td>4.0949e6</td><td>763.97</td><td>763.97</td><td>1</td><td>null</td><td>165</td><td>38004</td><td>69612.52718</td><td>null</td><td>null</td><td>null</td><td>null</td><td>null</td><td>null</td><td>null</td><td>null</td><td>null</td><td>null</td></tr></tbody></table></div>"
      ],
      "text/plain": [
       "shape: (7, 48)\n",
       "┌────────────┬────────────┬────────────┬────────────┬───┬────────────┬────────────┬────────────┬────────────┐\n",
       "│ TIPO_DOCUM ┆ NUMERO_DOC ┆ DIGITO_VER ┆ PRIMER_NOM ┆ … ┆ FECHA_LIMI ┆ VALOR_RECA ┆ FECHA_RECA ┆ NUMERO_FAC │\n",
       "│ ENTO       ┆ UMENTO     ┆ IFICACION  ┆ BRE_RAZON_ ┆   ┆ TE_PAGO    ┆ UDO        ┆ UDO        ┆ TURA_FT03  │\n",
       "│ ---        ┆ ---        ┆ ---        ┆ SOCIAL     ┆   ┆ ---        ┆ ---        ┆ ---        ┆ ---        │\n",
       "│ str        ┆ i64        ┆ i64        ┆ ---        ┆   ┆ str        ┆ f64        ┆ str        ┆ i64        │\n",
       "│            ┆            ┆            ┆ str        ┆   ┆            ┆            ┆            ┆            │\n",
       "╞════════════╪════════════╪════════════╪════════════╪═══╪════════════╪════════════╪════════════╪════════════╡\n",
       "│ NIT        ┆ 890319982  ┆ 8          ┆ COLEGIO    ┆ … ┆ null       ┆ null       ┆ null       ┆ null       │\n",
       "│            ┆            ┆            ┆ COOPERATIV ┆   ┆            ┆            ┆            ┆            │\n",
       "│            ┆            ┆            ┆ O COOMEVA  ┆   ┆            ┆            ┆            ┆            │\n",
       "│ NIT        ┆ 890319982  ┆ 8          ┆ COLEGIO    ┆ … ┆ null       ┆ null       ┆ null       ┆ null       │\n",
       "│            ┆            ┆            ┆ COOPERATIV ┆   ┆            ┆            ┆            ┆            │\n",
       "│            ┆            ┆            ┆ O COOMEVA  ┆   ┆            ┆            ┆            ┆            │\n",
       "│ NIT        ┆ 890319982  ┆ 8          ┆ COLEGIO    ┆ … ┆ null       ┆ null       ┆ null       ┆ null       │\n",
       "│            ┆            ┆            ┆ COOPERATIV ┆   ┆            ┆            ┆            ┆            │\n",
       "│            ┆            ┆            ┆ O COOMEVA  ┆   ┆            ┆            ┆            ┆            │\n",
       "│ NIT        ┆ 890319982  ┆ 8          ┆ COLEGIO    ┆ … ┆ null       ┆ null       ┆ null       ┆ null       │\n",
       "│            ┆            ┆            ┆ COOPERATIV ┆   ┆            ┆            ┆            ┆            │\n",
       "│            ┆            ┆            ┆ O COOMEVA  ┆   ┆            ┆            ┆            ┆            │\n",
       "│ NIT        ┆ 890319982  ┆ 8          ┆ COLEGIO    ┆ … ┆ null       ┆ null       ┆ null       ┆ null       │\n",
       "│            ┆            ┆            ┆ COOPERATIV ┆   ┆            ┆            ┆            ┆            │\n",
       "│            ┆            ┆            ┆ O COOMEVA  ┆   ┆            ┆            ┆            ┆            │\n",
       "│ NIT        ┆ 890319982  ┆ 8          ┆ COLEGIO    ┆ … ┆ null       ┆ null       ┆ null       ┆ null       │\n",
       "│            ┆            ┆            ┆ COOPERATIV ┆   ┆            ┆            ┆            ┆            │\n",
       "│            ┆            ┆            ┆ O COOMEVA  ┆   ┆            ┆            ┆            ┆            │\n",
       "│ NIT        ┆ 890319982  ┆ 8          ┆ COLEGIO    ┆ … ┆ null       ┆ null       ┆ null       ┆ null       │\n",
       "│            ┆            ┆            ┆ COOPERATIV ┆   ┆            ┆            ┆            ┆            │\n",
       "│            ┆            ┆            ┆ O COOMEVA  ┆   ┆            ┆            ┆            ┆            │\n",
       "└────────────┴────────────┴────────────┴────────────┴───┴────────────┴────────────┴────────────┴────────────┘"
      ]
     },
     "metadata": {},
     "output_type": "display_data"
    }
   ],
   "source": [
    "# Getting rows in FT01 only if not present in FT03\n",
    "df_exclude = ft01_df.join(ft03_df, on=\"NUMERO_FACTURA\", how=\"left\").filter(pl.all(pl.col('NUMERO_FACTURA_FT03').is_null()))\n",
    "\n",
    "display(df_exclude)"
   ]
  },
  {
   "cell_type": "markdown",
   "id": "c13a8c77",
   "metadata": {},
   "source": [
    "# SAVE"
   ]
  },
  {
   "cell_type": "code",
   "execution_count": 77,
   "id": "fe234641",
   "metadata": {},
   "outputs": [],
   "source": [
    "# filenames\n",
    "letters_var = string.ascii_letters\n",
    "success_var =  ( ''.join(random.choice(letters_var) for i in range(15)) )\n",
    "error_var = ( ''.join(random.choice(letters_var) for i in range(15)) )"
   ]
  },
  {
   "cell_type": "code",
   "execution_count": 78,
   "id": "3968ccdc",
   "metadata": {},
   "outputs": [],
   "source": [
    "#save report\n",
    "#to csv\n",
    "df_report.write_csv(\"./files/output/completed/found_num_fact/report_\" + success_var + \".csv\")"
   ]
  },
  {
   "cell_type": "code",
   "execution_count": 79,
   "id": "82ef059e",
   "metadata": {},
   "outputs": [],
   "source": [
    "#save not found records\n",
    "#to csv\n",
    "df_exclude.write_csv(\"./files/output/completed/not_found/not_found_\" + error_var + \".csv\")"
   ]
  },
  {
   "cell_type": "code",
   "execution_count": null,
   "id": "39695ee0",
   "metadata": {},
   "outputs": [],
   "source": []
  },
  {
   "cell_type": "code",
   "execution_count": null,
   "id": "b2c0035c",
   "metadata": {},
   "outputs": [],
   "source": []
  },
  {
   "cell_type": "markdown",
   "id": "804ec464",
   "metadata": {},
   "source": [
    "### Pruebas - borrar a partir de aquí"
   ]
  },
  {
   "cell_type": "code",
   "execution_count": null,
   "id": "ab299b74",
   "metadata": {},
   "outputs": [],
   "source": [
    "\n",
    "#pyarrow.dataset.write_dataset(\n",
    "#    ft01_or425_2016_df.to_arrow(),\n",
    "#    \"./files/input/remaining\",\n",
    "#    format=\"parquet\",\n",
    "#    partitioning=[\"ANIO_VIGENCIA\"],\n",
    "#    partitioning_flavor=\"hive\",\n",
    "#    existing_data_behavior=\"delete_matching\",\n",
    "#)"
   ]
  },
  {
   "cell_type": "code",
   "execution_count": null,
   "id": "22688c49",
   "metadata": {},
   "outputs": [],
   "source": [
    "#to scv\n",
    "\n",
    "df_report.write_csv(\"./files/output/polars_data.csv\")"
   ]
  },
  {
   "cell_type": "code",
   "execution_count": null,
   "id": "4c1af8e6",
   "metadata": {},
   "outputs": [],
   "source": [
    "#df1 = pl.read_parquet(\"./files/input/remaining/*\")\n",
    "\n",
    "#display(df1.head())"
   ]
  },
  {
   "cell_type": "code",
   "execution_count": null,
   "id": "40f8e523",
   "metadata": {},
   "outputs": [],
   "source": []
  },
  {
   "cell_type": "markdown",
   "id": "270d1292",
   "metadata": {},
   "source": [
    "# BORRAR"
   ]
  },
  {
   "cell_type": "code",
   "execution_count": null,
   "id": "3ac0d82c",
   "metadata": {},
   "outputs": [],
   "source": [
    "#parquet\n",
    "#ft01_or425_2016_df = pl.read_parquet(\"./files/input/remaining/ft01/*\")\n",
    "\n",
    "\n",
    "# ft01 input\n",
    "file_url_ft01 = (\n",
    "    \"files/input/test/FT01_EMCALI_-_PARA_FACTURAR_ENERO_A_JULIO_2022_COLEGIO_COOMEVA.txt\"\n",
    ")\n",
    "ft01_or425_2016_df = pl.read_csv(file_url_ft01, separator= \"|\", has_header= False)\n",
    "\n",
    "# ft01 rename\n",
    "ft01_or425_2016_df = ft01_or425_2016_df.rename({\"column_1\": \"TIPO_DOCUMENTO\"})\n",
    "ft01_or425_2016_df = ft01_or425_2016_df.rename({\"column_2\": \"NUMERO_DOCUMENTO\"})\n",
    "ft01_or425_2016_df = ft01_or425_2016_df.rename({\"column_3\": \"DIGITO_VERIFICACION\"})\n",
    "ft01_or425_2016_df = ft01_or425_2016_df.rename({\"column_4\": \"PRIMER_NOMBRE_RAZON_SOCIAL\"})\n",
    "ft01_or425_2016_df = ft01_or425_2016_df.rename({\"column_5\": \"SEGUNDO_NOMBRE\"})\n",
    "ft01_or425_2016_df = ft01_or425_2016_df.rename({\"column_6\": \"PRIMER_APELLIDO\"})\n",
    "ft01_or425_2016_df = ft01_or425_2016_df.rename({\"column_7\": \"SEGUNDO_APELLIDO\"})\n",
    "ft01_or425_2016_df = ft01_or425_2016_df.rename({\"column_8\": \"NIU\"})\n",
    "ft01_or425_2016_df = ft01_or425_2016_df.rename({\"column_9\": \"NIC_CODIGO_ID\"})\n",
    "ft01_or425_2016_df = ft01_or425_2016_df.rename({\"column_10\": \"MEDIDOR\"})\n",
    "ft01_or425_2016_df = ft01_or425_2016_df.rename({\"column_11\": \"DIRECCION_ENVIO\"})\n",
    "ft01_or425_2016_df = ft01_or425_2016_df.rename({\"column_12\": \"CIUDAD_ENVIO\"})\n",
    "ft01_or425_2016_df = ft01_or425_2016_df.rename({\"column_13\": \"DIRECCION_SUMINISTRO\"})\n",
    "ft01_or425_2016_df = ft01_or425_2016_df.rename({\"column_14\": \"BARRIO_SUMINISTRO\"})\n",
    "ft01_or425_2016_df = ft01_or425_2016_df.rename({\"column_15\": \"CORREGIMIENTO_SUMINISTRO\"})\n",
    "ft01_or425_2016_df = ft01_or425_2016_df.rename({\"column_16\": \"MUNICIPIO_SUMINISTRO\"})\n",
    "ft01_or425_2016_df = ft01_or425_2016_df.rename({\"column_17\": \"MERCADO\"})\n",
    "ft01_or425_2016_df = ft01_or425_2016_df.rename({\"column_18\": \"SECTOR\"})\n",
    "ft01_or425_2016_df = ft01_or425_2016_df.rename({\"column_19\": \"DESTINO_ECONOMICO_PREDIO\"})\n",
    "ft01_or425_2016_df = ft01_or425_2016_df.rename({\"column_20\": \"ESTRATO\"})\n",
    "ft01_or425_2016_df = ft01_or425_2016_df.rename({\"column_21\": \"NUMERO_FACTURA\"})\n",
    "ft01_or425_2016_df = ft01_or425_2016_df.rename({\"column_22\": \"PERIODO_FACTURADO_INICIO\"})\n",
    "ft01_or425_2016_df = ft01_or425_2016_df.rename({\"column_23\": \"PERIODO_FACTURADO_FINAL\"})\n",
    "ft01_or425_2016_df = ft01_or425_2016_df.rename({\"column_24\": \"ANIO_VIGENCIA\"})\n",
    "ft01_or425_2016_df = ft01_or425_2016_df.rename({\"column_25\": \"PERIODO_MES\"})\n",
    "ft01_or425_2016_df = ft01_or425_2016_df.rename({\"column_26\": \"CICLO_FACTURACION\"})\n",
    "ft01_or425_2016_df = ft01_or425_2016_df.rename({\"column_27\": \"FECHA_VENCIMIENTO_FACTURA\"})\n",
    "ft01_or425_2016_df = ft01_or425_2016_df.rename({\"column_28\": \"CONSUMO_KWH\"})\n",
    "ft01_or425_2016_df = ft01_or425_2016_df.rename({\"column_29\": \"CONSUMO_KWH_SUBSIDIADO\"})\n",
    "ft01_or425_2016_df = ft01_or425_2016_df.rename({\"column_30\": \"CONSUMO_ENERGIA_SIN_SUBSIDIO\"})\n",
    "ft01_or425_2016_df = ft01_or425_2016_df.rename({\"column_31\": \"CONSUMO_ENERGIA_SUBSIDIADO\"})\n",
    "ft01_or425_2016_df = ft01_or425_2016_df.rename({\"column_32\": \"TARIFA_APLICADA_KWH\"})\n",
    "ft01_or425_2016_df = ft01_or425_2016_df.rename({\"column_33\": \"TARIFA_SUBSIDIADA_KWH\"})\n",
    "ft01_or425_2016_df = ft01_or425_2016_df.rename({\"column_34\": \"FICHA_CATASTRAL\"})\n",
    "ft01_or425_2016_df = ft01_or425_2016_df.rename({\"column_35\": \"CORREO_ELECTRONICO\"})\n",
    "ft01_or425_2016_df = ft01_or425_2016_df.rename({\"column_36\": \"OPERADOR\"})"
   ]
  },
  {
   "cell_type": "code",
   "execution_count": null,
   "id": "c0781abd",
   "metadata": {},
   "outputs": [],
   "source": [
    "display(ft01_or425_2016_df.head())"
   ]
  },
  {
   "cell_type": "code",
   "execution_count": null,
   "id": "f2faaff5",
   "metadata": {},
   "outputs": [],
   "source": [
    "pyarrow.dataset.write_dataset(\n",
    "    ft01_or425_2016_df.to_arrow(),\n",
    "    \"./files/input/test\",\n",
    "    format=\"parquet\",\n",
    "    partitioning_flavor=\"hive\",\n",
    "    existing_data_behavior=\"delete_matching\",\n",
    ")"
   ]
  },
  {
   "cell_type": "code",
   "execution_count": null,
   "id": "cc2f57ef",
   "metadata": {},
   "outputs": [],
   "source": [
    "#parquet\n",
    "#ft03_df = pl.read_parquet(\"./files/input/remaining/ft03/*\")\n",
    "\n",
    "# ft03 input\n",
    "file_url_ft03 = (\n",
    "    \"files/input/test/20230214220009_890399003_2023_01_FT03_03.csv\"\n",
    ")\n",
    "ft03_df = pl.read_csv(file_url_ft03, separator= \"|\", has_header= False)\n",
    "\n",
    "# ft03 rename\n",
    "ft03_df = ft03_df.rename({\"column_1\": \"NUMERO_DOCUMENTO\"})\n",
    "ft03_df = ft03_df.rename({\"column_2\": \"DIGITO_VERIFICACION\"})\n",
    "ft03_df = ft03_df.rename({\"column_3\": \"NIU\"})\n",
    "ft03_df = ft03_df.rename({\"column_4\": \"NIC_CODIGO_ID\"})\n",
    "ft03_df = ft03_df.rename({\"column_5\": \"NUMERO_FACTURA\"})\n",
    "ft03_df = ft03_df.rename({\"column_6\": \"VALOR_FACTURADO_TASA_SEGURIDAD\"})\n",
    "ft03_df = ft03_df.rename({\"column_7\": \"VALOR_INTERESES\"})\n",
    "ft03_df = ft03_df.rename({\"column_8\": \"FECHA_LIMITE_PAGO\"})\n",
    "ft03_df = ft03_df.rename({\"column_9\": \"VALOR_RECAUDO\"})\n",
    "ft03_df = ft03_df.rename({\"column_10\": \"FECHA_RECAUDO\"})"
   ]
  },
  {
   "cell_type": "code",
   "execution_count": null,
   "id": "fcfef018",
   "metadata": {},
   "outputs": [],
   "source": [
    "display(ft03_df.head())"
   ]
  },
  {
   "cell_type": "code",
   "execution_count": null,
   "id": "377ddbde",
   "metadata": {},
   "outputs": [],
   "source": [
    "pyarrow.dataset.write_dataset(\n",
    "    ft03_df.to_arrow(),\n",
    "    \"./files/input/remaining/ft03\",\n",
    "    format=\"parquet\",\n",
    "    partitioning_flavor=\"hive\",\n",
    "    existing_data_behavior=\"delete_matching\",\n",
    ")"
   ]
  },
  {
   "cell_type": "code",
   "execution_count": null,
   "id": "3e1a8d73",
   "metadata": {},
   "outputs": [],
   "source": [
    "#parquet\n",
    "ft01_dfff = pl.read_parquet(\"./files/input/remaining/ft01/*\")"
   ]
  },
  {
   "cell_type": "code",
   "execution_count": null,
   "id": "4d957ca1",
   "metadata": {},
   "outputs": [],
   "source": [
    "display(ft01_dfff.head())"
   ]
  },
  {
   "cell_type": "code",
   "execution_count": null,
   "id": "aefb370d",
   "metadata": {},
   "outputs": [],
   "source": []
  }
 ],
 "metadata": {
  "kernelspec": {
   "display_name": "Python 3 (ipykernel)",
   "language": "python",
   "name": "python3"
  },
  "language_info": {
   "codemirror_mode": {
    "name": "ipython",
    "version": 3
   },
   "file_extension": ".py",
   "mimetype": "text/x-python",
   "name": "python",
   "nbconvert_exporter": "python",
   "pygments_lexer": "ipython3",
   "version": "3.10.9"
  }
 },
 "nbformat": 4,
 "nbformat_minor": 5
}
