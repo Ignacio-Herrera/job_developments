{
 "cells": [
  {
   "cell_type": "markdown",
   "id": "5aa0d617",
   "metadata": {},
   "source": [
    "# Python / Polars (portfolio calculation FT01.FT03)"
   ]
  },
  {
   "cell_type": "markdown",
   "id": "96eceb5c",
   "metadata": {},
   "source": [
    "## libs"
   ]
  },
  {
   "cell_type": "code",
   "execution_count": 96,
   "id": "fe745c70",
   "metadata": {},
   "outputs": [],
   "source": [
    "import polars as pl\n",
    "from datetime import datetime"
   ]
  },
  {
   "cell_type": "markdown",
   "id": "e2cc9916",
   "metadata": {},
   "source": [
    "## user-defined functions"
   ]
  },
  {
   "cell_type": "markdown",
   "id": "3d0fa073",
   "metadata": {},
   "source": [
    "### calculate tescc"
   ]
  },
  {
   "cell_type": "code",
   "execution_count": 102,
   "id": "8532558f",
   "metadata": {},
   "outputs": [
    {
     "ename": "IndentationError",
     "evalue": "expected an indented block after 'if' statement on line 33 (1855719221.py, line 39)",
     "output_type": "error",
     "traceback": [
      "\u001b[1;36m  Cell \u001b[1;32mIn[102], line 39\u001b[1;36m\u001b[0m\n\u001b[1;33m    return result\u001b[0m\n\u001b[1;37m    ^\u001b[0m\n\u001b[1;31mIndentationError\u001b[0m\u001b[1;31m:\u001b[0m expected an indented block after 'if' statement on line 33\n"
     ]
    }
   ],
   "source": [
    "#def udf_calculate_tescc(destino_economico, estrato, anio, mes):\n",
    "#    result = mes - mes\n",
    "\n",
    "\n",
    "def udf_calculate_tescc(destino_economico, estrato, anio, mes, consumo, consumo_kwh):\n",
    "    \n",
    "    #vars\n",
    "    result = 0\n",
    "    l_estratos = [1,2,3]\n",
    "    l_uvt_cop = dict()\n",
    "    l_smmlv_cop = dict()\n",
    "    calc_case = 0\n",
    "    #calc_case\n",
    "    # 0 : estrato 1 2 3\n",
    "    #\n",
    "    #\n",
    "    #\n",
    "    #\n",
    "\n",
    "    l_uvt_cop = {\n",
    "        2021 : 36308,\n",
    "        2022 : 38004,\n",
    "        2023 : 42412\n",
    "    }\n",
    "    \n",
    "    l_smmlv_cop = {\n",
    "        2017 : 737717,\n",
    "        2018 : 781242,\n",
    "        2019 : 828116,\n",
    "        2020 : 877803,\n",
    "        2021: 908526\n",
    "    }\n",
    "    \n",
    "    if estrato in l_estratos:\n",
    "        #code here\n",
    "    else:\n",
    "        if anio <= 2021 & mes <= 11 :\n",
    "            #>>> Ordenanza 425 de 2016\n",
    "            if destino_economico == \"INDUSTRIAL\" | destino_economico == \"COMERCIAL\" :\n",
    "                #destino economico INDUSTRIAL y COMERCIAL\n",
    "                if destino_economico == \"INDUSTRIAL\" :\n",
    "                    #code\n",
    "                    if consumo_kwh < 300000 :\n",
    "                        result = consumo * 0.017\n",
    "                    else:\n",
    "                        #code SMMLV\n",
    "                        result = 1.7 * (:FIND_SMMLV:)\n",
    "                else:\n",
    "                    #code\n",
    "                    if consumo_kwh > 200000 :\n",
    "                        #code SMMLV\n",
    "                        result = 1.4 * (:FIND_SMMLV:)\n",
    "                    else:\n",
    "                        result = consumo * 0.017\n",
    "                \n",
    "            else:\n",
    "                if estrato == 4 | destino_economico == \"OFICIAL\" :\n",
    "                    result = consumo * 0.01\n",
    "                elif estrato == 5 | estrato == 6 :\n",
    "                    result = consumo * 0.02\n",
    "                elif destino_economico == \"ESPECIAL\" | destino_economico == \"OTROS\" :\n",
    "                    result = consumo * 0.017\n",
    "                \n",
    "        else:\n",
    "            #>>> Ordenanza 573 de 2021\n",
    "            if destino_economico == \"INDUSTRIAL\" | destino_economico == \"COMERCIAL\" :\n",
    "                #destino economico INDUSTRIAL y COMERCIAL\n",
    "                base_gravable = consumo * 0.017\n",
    "                if destino_economico == \"INDUSTRIAL\" :\n",
    "                    #code\n",
    "                    if base_gravable > 42.54 * (:FIND_UVT:) :\n",
    "                        #code\n",
    "                        result = 42.54 * (:FIND_UVT:)\n",
    "                    else:\n",
    "                        #code\n",
    "                        result = base_gravable\n",
    "                else:\n",
    "                    #code\n",
    "                    if base_gravable > 35 * (:FIND_UVT:) :\n",
    "                        #code\n",
    "                        result = 35 * (:FIND_UVT:)\n",
    "                    else:\n",
    "                        #code\n",
    "                        result = base_gravable\n",
    "                    \n",
    "            else:\n",
    "                if estrato == 4 | destino_economico == \"OFICIAL\" :\n",
    "                    result = consumo * 0.01\n",
    "                elif estrato == 5 | estrato == 6 :\n",
    "                    result = consumo * 0.02\n",
    "                elif destino_economico == \"ESPECIAL\" | destino_economico == \"OTROS\" :\n",
    "                    result = consumo * 0.017\n",
    "            \n",
    "        \n",
    "    #continue here\n",
    "    \n",
    "    #result\n",
    "    return result\n",
    "\n"
   ]
  },
  {
   "cell_type": "markdown",
   "id": "376aba4f",
   "metadata": {},
   "source": [
    "## read files"
   ]
  },
  {
   "cell_type": "markdown",
   "id": "395078bf",
   "metadata": {},
   "source": [
    "### ft03"
   ]
  },
  {
   "cell_type": "code",
   "execution_count": 98,
   "id": "d5c36016",
   "metadata": {},
   "outputs": [
    {
     "name": "stdout",
     "output_type": "stream",
     "text": [
      "object type: <class 'polars.dataframe.frame.DataFrame'>\n",
      "data dimension: (40541, 10)\n"
     ]
    },
    {
     "data": {
      "text/html": [
       "<div><style>\n",
       ".dataframe > thead > tr > th,\n",
       ".dataframe > tbody > tr > td {\n",
       "  text-align: right;\n",
       "}\n",
       "</style>\n",
       "<small>shape: (5, 10)</small><table border=\"1\" class=\"dataframe\"><thead><tr><th>NUMERO_DOCUMENTO</th><th>DIGITO_VERIFICACION</th><th>NIU</th><th>NIC_CODIGO_ID</th><th>NUMERO_FACTURA</th><th>VALOR_FACTURADO_TASA_SEGURIDAD</th><th>VALOR_INTERESES</th><th>FECHA_LIMITE_PAGO</th><th>VALOR_RECAUDO</th><th>FECHA_RECAUDO</th></tr><tr><td>i64</td><td>str</td><td>i64</td><td>i64</td><td>i64</td><td>f64</td><td>f64</td><td>str</td><td>f64</td><td>str</td></tr></thead><tbody><tr><td>16623043</td><td>null</td><td>151314</td><td>93464</td><td>354013788</td><td>0.0</td><td>0.0</td><td>&quot;18-01-2023&quot;</td><td>11.86</td><td>&quot;26-01-2023&quot;</td></tr><tr><td>2557306</td><td>null</td><td>129355</td><td>87059</td><td>354009198</td><td>0.0</td><td>0.0</td><td>&quot;18-01-2023&quot;</td><td>6183.52</td><td>&quot;26-01-2023&quot;</td></tr><tr><td>31266414</td><td>null</td><td>127938</td><td>86753</td><td>354009047</td><td>1900.2</td><td>0.0</td><td>&quot;18-01-2023&quot;</td><td>1900.2</td><td>&quot;13-01-2023&quot;</td></tr><tr><td>16625223</td><td>null</td><td>128074</td><td>86782</td><td>354009049</td><td>3844.17</td><td>0.0</td><td>&quot;18-01-2023&quot;</td><td>3844.17</td><td>&quot;18-01-2023&quot;</td></tr><tr><td>34592014</td><td>null</td><td>127956</td><td>86757</td><td>354009050</td><td>3001.41</td><td>0.0</td><td>&quot;18-01-2023&quot;</td><td>3001.41</td><td>&quot;18-01-2023&quot;</td></tr></tbody></table></div>"
      ],
      "text/plain": [
       "shape: (5, 10)\n",
       "┌────────────┬────────────┬────────┬────────────┬───┬────────────┬────────────┬────────────┬────────────┐\n",
       "│ NUMERO_DOC ┆ DIGITO_VER ┆ NIU    ┆ NIC_CODIGO ┆ … ┆ VALOR_INTE ┆ FECHA_LIMI ┆ VALOR_RECA ┆ FECHA_RECA │\n",
       "│ UMENTO     ┆ IFICACION  ┆ ---    ┆ _ID        ┆   ┆ RESES      ┆ TE_PAGO    ┆ UDO        ┆ UDO        │\n",
       "│ ---        ┆ ---        ┆ i64    ┆ ---        ┆   ┆ ---        ┆ ---        ┆ ---        ┆ ---        │\n",
       "│ i64        ┆ str        ┆        ┆ i64        ┆   ┆ f64        ┆ str        ┆ f64        ┆ str        │\n",
       "╞════════════╪════════════╪════════╪════════════╪═══╪════════════╪════════════╪════════════╪════════════╡\n",
       "│ 16623043   ┆ null       ┆ 151314 ┆ 93464      ┆ … ┆ 0.0        ┆ 18-01-2023 ┆ 11.86      ┆ 26-01-2023 │\n",
       "│ 2557306    ┆ null       ┆ 129355 ┆ 87059      ┆ … ┆ 0.0        ┆ 18-01-2023 ┆ 6183.52    ┆ 26-01-2023 │\n",
       "│ 31266414   ┆ null       ┆ 127938 ┆ 86753      ┆ … ┆ 0.0        ┆ 18-01-2023 ┆ 1900.2     ┆ 13-01-2023 │\n",
       "│ 16625223   ┆ null       ┆ 128074 ┆ 86782      ┆ … ┆ 0.0        ┆ 18-01-2023 ┆ 3844.17    ┆ 18-01-2023 │\n",
       "│ 34592014   ┆ null       ┆ 127956 ┆ 86757      ┆ … ┆ 0.0        ┆ 18-01-2023 ┆ 3001.41    ┆ 18-01-2023 │\n",
       "└────────────┴────────────┴────────┴────────────┴───┴────────────┴────────────┴────────────┴────────────┘"
      ]
     },
     "metadata": {},
     "output_type": "display_data"
    }
   ],
   "source": [
    "# ft03 input\n",
    "file_url_ft03 = (\n",
    "    \"files/input/20230214220009_890399003_2023_01_FT03_03.csv\"\n",
    ")\n",
    "ft03_df = pl.read_csv(file_url_ft03, separator= \"|\", has_header= False)\n",
    "\n",
    "# ft03 rename\n",
    "ft03_df = ft03_df.rename({\"column_1\": \"NUMERO_DOCUMENTO\"})\n",
    "ft03_df = ft03_df.rename({\"column_2\": \"DIGITO_VERIFICACION\"})\n",
    "ft03_df = ft03_df.rename({\"column_3\": \"NIU\"})\n",
    "ft03_df = ft03_df.rename({\"column_4\": \"NIC_CODIGO_ID\"})\n",
    "ft03_df = ft03_df.rename({\"column_5\": \"NUMERO_FACTURA\"})\n",
    "ft03_df = ft03_df.rename({\"column_6\": \"VALOR_FACTURADO_TASA_SEGURIDAD\"})\n",
    "ft03_df = ft03_df.rename({\"column_7\": \"VALOR_INTERESES\"})\n",
    "ft03_df = ft03_df.rename({\"column_8\": \"FECHA_LIMITE_PAGO\"})\n",
    "ft03_df = ft03_df.rename({\"column_9\": \"VALOR_RECAUDO\"})\n",
    "ft03_df = ft03_df.rename({\"column_10\": \"FECHA_RECAUDO\"})\n",
    "\n",
    "print(f\"object type: {type(ft03_df)}\")\n",
    "print(f\"data dimension: {ft03_df.shape}\")\n",
    "display(ft03_df.head())"
   ]
  },
  {
   "cell_type": "markdown",
   "id": "b39c10f5",
   "metadata": {},
   "source": [
    "### ft01"
   ]
  },
  {
   "cell_type": "code",
   "execution_count": 99,
   "id": "744ffe3a",
   "metadata": {},
   "outputs": [
    {
     "name": "stdout",
     "output_type": "stream",
     "text": [
      "object type: <class 'polars.dataframe.frame.DataFrame'>\n",
      "data dimension: (8, 36)\n"
     ]
    },
    {
     "data": {
      "text/html": [
       "<div><style>\n",
       ".dataframe > thead > tr > th,\n",
       ".dataframe > tbody > tr > td {\n",
       "  text-align: right;\n",
       "}\n",
       "</style>\n",
       "<small>shape: (5, 36)</small><table border=\"1\" class=\"dataframe\"><thead><tr><th>TIPO_DOCUMENTO</th><th>NUMERO_DOCUMENTO</th><th>DIGITO_VERIFICACION</th><th>PRIMER_NOMBRE_RAZON_SOCIAL</th><th>SEGUNDO_NOMBRE</th><th>PRIMER_APELLIDO</th><th>SEGUNDO_APELLIDO</th><th>NIU</th><th>NIC_CODIGO_ID</th><th>MEDIDOR</th><th>DIRECCION_ENVIO</th><th>CIUDAD_ENVIO</th><th>DIRECCION_SUMINISTRO</th><th>BARRIO_SUMINISTRO</th><th>CORREGIMIENTO_SUMINISTRO</th><th>MUNICIPIO_SUMINISTRO</th><th>MERCADO</th><th>SECTOR</th><th>DESTINO_ECONOMICO_PREDIO</th><th>ESTRATO</th><th>NUMERO_FACTURA</th><th>PERIODO_FACTURADO_INICIO</th><th>PERIODO_FACTURADO_FINAL</th><th>ANIO_VIGENCIA</th><th>PERIODO_MES</th><th>CICLO_FACTURACION</th><th>FECHA_VENCIMIENTO_FACTURA</th><th>CONSUMO_KWH</th><th>CONSUMO_KWH_SUBSIDIADO</th><th>CONSUMO_ENERGIA_SIN_SUBSIDIO</th><th>CONSUMO_ENERGIA_SUBSIDIADO</th><th>TARIFA_APLICADA_KWH</th><th>TARIFA_SUBSIDIADA_KWH</th><th>FICHA_CATASTRAL</th><th>CORREO_ELECTRONICO</th><th>OPERADOR</th></tr><tr><td>str</td><td>i64</td><td>i64</td><td>str</td><td>str</td><td>str</td><td>str</td><td>i64</td><td>i64</td><td>str</td><td>str</td><td>i64</td><td>str</td><td>str</td><td>str</td><td>i64</td><td>str</td><td>str</td><td>str</td><td>i64</td><td>i64</td><td>str</td><td>str</td><td>i64</td><td>i64</td><td>i64</td><td>str</td><td>f64</td><td>f64</td><td>f64</td><td>f64</td><td>f64</td><td>f64</td><td>i64</td><td>str</td><td>i64</td></tr></thead><tbody><tr><td>&quot;NIT&quot;</td><td>890319982</td><td>8</td><td>&quot;COLEGIO COOPER…</td><td>null</td><td>null</td><td>null</td><td>1686181</td><td>1017843</td><td>&quot;U41A68052854&quot;</td><td>&quot;CL 18 128-233&quot;</td><td>76001</td><td>&quot;CL 18 128-233&quot;</td><td>&quot;LOS NARANJOS I…</td><td>null</td><td>76001</td><td>&quot;R&quot;</td><td>&quot;URBANO&quot;</td><td>&quot;ESPECIAL&quot;</td><td>99</td><td>331424038</td><td>&quot;07-01-2022&quot;</td><td>&quot;07-02-2022&quot;</td><td>2022</td><td>2</td><td>35</td><td>&quot;07-03-2022&quot;</td><td>6880.0</td><td>0.0</td><td>4.5827e6</td><td>4.5827e6</td><td>666.1</td><td>666.1</td><td>1</td><td>null</td><td>165</td></tr><tr><td>&quot;NIT&quot;</td><td>890319982</td><td>8</td><td>&quot;COLEGIO COOPER…</td><td>null</td><td>null</td><td>null</td><td>1686181</td><td>1017843</td><td>&quot;U41A68052854&quot;</td><td>&quot;CL 18 128-233&quot;</td><td>76001</td><td>&quot;CL 18 128-233&quot;</td><td>&quot;LOS NARANJOS I…</td><td>null</td><td>76001</td><td>&quot;R&quot;</td><td>&quot;URBANO&quot;</td><td>&quot;ESPECIAL&quot;</td><td>99</td><td>335672446</td><td>&quot;10-03-2022&quot;</td><td>&quot;08-04-2022&quot;</td><td>2022</td><td>4</td><td>35</td><td>&quot;04-05-2022&quot;</td><td>6360.0</td><td>0.0</td><td>4.5816e6</td><td>4.5816e6</td><td>720.38</td><td>720.38</td><td>1</td><td>null</td><td>165</td></tr><tr><td>&quot;NIT&quot;</td><td>890319982</td><td>8</td><td>&quot;COLEGIO COOPER…</td><td>null</td><td>null</td><td>null</td><td>1686181</td><td>1017843</td><td>&quot;U41A68052854&quot;</td><td>&quot;CL 18 128-233&quot;</td><td>76001</td><td>&quot;CL 18 128-233&quot;</td><td>&quot;LOS NARANJOS I…</td><td>null</td><td>76001</td><td>&quot;R&quot;</td><td>&quot;URBANO&quot;</td><td>&quot;ESPECIAL&quot;</td><td>99</td><td>337832857</td><td>&quot;09-04-2022&quot;</td><td>&quot;10-05-2022&quot;</td><td>2022</td><td>5</td><td>35</td><td>&quot;01-06-2022&quot;</td><td>4840.0</td><td>0.0</td><td>3.5215e6</td><td>3.5215e6</td><td>727.59</td><td>727.59</td><td>1</td><td>null</td><td>165</td></tr><tr><td>&quot;NIT&quot;</td><td>890319982</td><td>8</td><td>&quot;COLEGIO COOPER…</td><td>null</td><td>null</td><td>null</td><td>1686181</td><td>1017843</td><td>&quot;U41A68052854&quot;</td><td>&quot;CL 18 128-233&quot;</td><td>76001</td><td>&quot;CL 18 128-233&quot;</td><td>&quot;LOS NARANJOS I…</td><td>null</td><td>76001</td><td>&quot;R&quot;</td><td>&quot;URBANO&quot;</td><td>&quot;ESPECIAL&quot;</td><td>99</td><td>333629402</td><td>&quot;08-02-2022&quot;</td><td>&quot;09-03-2022&quot;</td><td>2022</td><td>3</td><td>35</td><td>&quot;01-04-2022&quot;</td><td>6920.0</td><td>0.0</td><td>4.7477e6</td><td>4.7477e6</td><td>686.08</td><td>686.08</td><td>1</td><td>null</td><td>165</td></tr><tr><td>&quot;NIT&quot;</td><td>890319982</td><td>8</td><td>&quot;COLEGIO COOPER…</td><td>null</td><td>null</td><td>null</td><td>1686188</td><td>1017845</td><td>&quot;ELEN60151808&quot;</td><td>&quot;CL 18 128-233 …</td><td>76001</td><td>&quot;CL 18 128-233 …</td><td>&quot;LOS NARANJOS I…</td><td>null</td><td>76001</td><td>&quot;R&quot;</td><td>&quot;URBANO&quot;</td><td>&quot;COMERCIAL&quot;</td><td>99</td><td>329523648</td><td>&quot;08-12-2021&quot;</td><td>&quot;06-01-2022&quot;</td><td>2022</td><td>1</td><td>35</td><td>&quot;01-02-2022&quot;</td><td>219.0</td><td>0.0</td><td>141626.14</td><td>141626.14</td><td>646.69</td><td>646.69</td><td>1</td><td>null</td><td>165</td></tr></tbody></table></div>"
      ],
      "text/plain": [
       "shape: (5, 36)\n",
       "┌────────────┬────────────┬────────────┬────────────┬───┬────────────┬────────────┬────────────┬──────────┐\n",
       "│ TIPO_DOCUM ┆ NUMERO_DOC ┆ DIGITO_VER ┆ PRIMER_NOM ┆ … ┆ TARIFA_SUB ┆ FICHA_CATA ┆ CORREO_ELE ┆ OPERADOR │\n",
       "│ ENTO       ┆ UMENTO     ┆ IFICACION  ┆ BRE_RAZON_ ┆   ┆ SIDIADA_KW ┆ STRAL      ┆ CTRONICO   ┆ ---      │\n",
       "│ ---        ┆ ---        ┆ ---        ┆ SOCIAL     ┆   ┆ H          ┆ ---        ┆ ---        ┆ i64      │\n",
       "│ str        ┆ i64        ┆ i64        ┆ ---        ┆   ┆ ---        ┆ i64        ┆ str        ┆          │\n",
       "│            ┆            ┆            ┆ str        ┆   ┆ f64        ┆            ┆            ┆          │\n",
       "╞════════════╪════════════╪════════════╪════════════╪═══╪════════════╪════════════╪════════════╪══════════╡\n",
       "│ NIT        ┆ 890319982  ┆ 8          ┆ COLEGIO    ┆ … ┆ 666.1      ┆ 1          ┆ null       ┆ 165      │\n",
       "│            ┆            ┆            ┆ COOPERATIV ┆   ┆            ┆            ┆            ┆          │\n",
       "│            ┆            ┆            ┆ O COOMEVA  ┆   ┆            ┆            ┆            ┆          │\n",
       "│ NIT        ┆ 890319982  ┆ 8          ┆ COLEGIO    ┆ … ┆ 720.38     ┆ 1          ┆ null       ┆ 165      │\n",
       "│            ┆            ┆            ┆ COOPERATIV ┆   ┆            ┆            ┆            ┆          │\n",
       "│            ┆            ┆            ┆ O COOMEVA  ┆   ┆            ┆            ┆            ┆          │\n",
       "│ NIT        ┆ 890319982  ┆ 8          ┆ COLEGIO    ┆ … ┆ 727.59     ┆ 1          ┆ null       ┆ 165      │\n",
       "│            ┆            ┆            ┆ COOPERATIV ┆   ┆            ┆            ┆            ┆          │\n",
       "│            ┆            ┆            ┆ O COOMEVA  ┆   ┆            ┆            ┆            ┆          │\n",
       "│ NIT        ┆ 890319982  ┆ 8          ┆ COLEGIO    ┆ … ┆ 686.08     ┆ 1          ┆ null       ┆ 165      │\n",
       "│            ┆            ┆            ┆ COOPERATIV ┆   ┆            ┆            ┆            ┆          │\n",
       "│            ┆            ┆            ┆ O COOMEVA  ┆   ┆            ┆            ┆            ┆          │\n",
       "│ NIT        ┆ 890319982  ┆ 8          ┆ COLEGIO    ┆ … ┆ 646.69     ┆ 1          ┆ null       ┆ 165      │\n",
       "│            ┆            ┆            ┆ COOPERATIV ┆   ┆            ┆            ┆            ┆          │\n",
       "│            ┆            ┆            ┆ O COOMEVA  ┆   ┆            ┆            ┆            ┆          │\n",
       "└────────────┴────────────┴────────────┴────────────┴───┴────────────┴────────────┴────────────┴──────────┘"
      ]
     },
     "metadata": {},
     "output_type": "display_data"
    }
   ],
   "source": [
    "# ft01 input\n",
    "file_url_ft01 = (\n",
    "    \"files/input/FT01_EMCALI_-_PARA_FACTURAR_ENERO_A_JULIO_2022_COLEGIO_COOMEVA.txt\"\n",
    ")\n",
    "ft01_df = pl.read_csv(file_url_ft01, separator= \"|\", has_header= False)\n",
    "\n",
    "# ft01 rename\n",
    "ft01_df = ft01_df.rename({\"column_1\": \"TIPO_DOCUMENTO\"})\n",
    "ft01_df = ft01_df.rename({\"column_2\": \"NUMERO_DOCUMENTO\"})\n",
    "ft01_df = ft01_df.rename({\"column_3\": \"DIGITO_VERIFICACION\"})\n",
    "ft01_df = ft01_df.rename({\"column_4\": \"PRIMER_NOMBRE_RAZON_SOCIAL\"})\n",
    "ft01_df = ft01_df.rename({\"column_5\": \"SEGUNDO_NOMBRE\"})\n",
    "ft01_df = ft01_df.rename({\"column_6\": \"PRIMER_APELLIDO\"})\n",
    "ft01_df = ft01_df.rename({\"column_7\": \"SEGUNDO_APELLIDO\"})\n",
    "ft01_df = ft01_df.rename({\"column_8\": \"NIU\"})\n",
    "ft01_df = ft01_df.rename({\"column_9\": \"NIC_CODIGO_ID\"})\n",
    "ft01_df = ft01_df.rename({\"column_10\": \"MEDIDOR\"})\n",
    "ft01_df = ft01_df.rename({\"column_11\": \"DIRECCION_ENVIO\"})\n",
    "ft01_df = ft01_df.rename({\"column_12\": \"CIUDAD_ENVIO\"})\n",
    "ft01_df = ft01_df.rename({\"column_13\": \"DIRECCION_SUMINISTRO\"})\n",
    "ft01_df = ft01_df.rename({\"column_14\": \"BARRIO_SUMINISTRO\"})\n",
    "ft01_df = ft01_df.rename({\"column_15\": \"CORREGIMIENTO_SUMINISTRO\"})\n",
    "ft01_df = ft01_df.rename({\"column_16\": \"MUNICIPIO_SUMINISTRO\"})\n",
    "ft01_df = ft01_df.rename({\"column_17\": \"MERCADO\"})\n",
    "ft01_df = ft01_df.rename({\"column_18\": \"SECTOR\"})\n",
    "ft01_df = ft01_df.rename({\"column_19\": \"DESTINO_ECONOMICO_PREDIO\"})\n",
    "ft01_df = ft01_df.rename({\"column_20\": \"ESTRATO\"})\n",
    "ft01_df = ft01_df.rename({\"column_21\": \"NUMERO_FACTURA\"})\n",
    "ft01_df = ft01_df.rename({\"column_22\": \"PERIODO_FACTURADO_INICIO\"})\n",
    "ft01_df = ft01_df.rename({\"column_23\": \"PERIODO_FACTURADO_FINAL\"})\n",
    "ft01_df = ft01_df.rename({\"column_24\": \"ANIO_VIGENCIA\"})\n",
    "ft01_df = ft01_df.rename({\"column_25\": \"PERIODO_MES\"})\n",
    "ft01_df = ft01_df.rename({\"column_26\": \"CICLO_FACTURACION\"})\n",
    "ft01_df = ft01_df.rename({\"column_27\": \"FECHA_VENCIMIENTO_FACTURA\"})\n",
    "ft01_df = ft01_df.rename({\"column_28\": \"CONSUMO_KWH\"})\n",
    "ft01_df = ft01_df.rename({\"column_29\": \"CONSUMO_KWH_SUBSIDIADO\"})\n",
    "ft01_df = ft01_df.rename({\"column_30\": \"CONSUMO_ENERGIA_SIN_SUBSIDIO\"})\n",
    "ft01_df = ft01_df.rename({\"column_31\": \"CONSUMO_ENERGIA_SUBSIDIADO\"})\n",
    "ft01_df = ft01_df.rename({\"column_32\": \"TARIFA_APLICADA_KWH\"})\n",
    "ft01_df = ft01_df.rename({\"column_33\": \"TARIFA_SUBSIDIADA_KWH\"})\n",
    "ft01_df = ft01_df.rename({\"column_34\": \"FICHA_CATASTRAL\"})\n",
    "ft01_df = ft01_df.rename({\"column_35\": \"CORREO_ELECTRONICO\"})\n",
    "ft01_df = ft01_df.rename({\"column_36\": \"OPERADOR\"})\n",
    "\n",
    "print(f\"object type: {type(ft01_df)}\")\n",
    "print(f\"data dimension: {ft01_df.shape}\")\n",
    "display(ft01_df.head())"
   ]
  },
  {
   "cell_type": "markdown",
   "id": "a3eb510b",
   "metadata": {},
   "source": [
    "## calculate tescc ft01"
   ]
  },
  {
   "cell_type": "code",
   "execution_count": 100,
   "id": "21ad5bf6",
   "metadata": {},
   "outputs": [
    {
     "name": "stdout",
     "output_type": "stream",
     "text": [
      "shape: (8,)\n",
      "Series: 'ESTRATO' [i64]\n",
      "[\n",
      "\t99\n",
      "\t99\n",
      "\t99\n",
      "\t99\n",
      "\t99\n",
      "\t99\n",
      "\t99\n",
      "\t99\n",
      "]\n"
     ]
    }
   ],
   "source": [
    "#display(ft01_df.dtypes)\n",
    "\n",
    "#ft01_df = ft01_df.with_columns(\n",
    "#    (\n",
    "#        udf_calculate_tescc(pl.col(\"DESTINO_ECONOMICO_PREDIO\"),\n",
    "#                            pl.col(\"ESTRATO\"),\n",
    "#                            pl.col(\"ANIO_VIGENCIA\"),\n",
    "#                            pl.col(\"PERIODO_MES\")\n",
    "#                           )\n",
    "#    ).alias(\"TESCC\")\n",
    "#)\n",
    "\n",
    "\n",
    "\n",
    "ft01_df = ft01_df.with_columns(\n",
    "    (\n",
    "        pl.struct([\"DESTINO_ECONOMICO_PREDIO\", \"ESTRATO\", \"ANIO_VIGENCIA\", \"PERIODO_MES\", \"CONSUMO_ENERGIA_SIN_SUBSIDIO\", \"CONSUMO_KWH\"]).map(\n",
    "            lambda x: udf_calculate_tescc(\n",
    "                x.struct.field(\"DESTINO_ECONOMICO_PREDIO\"),\n",
    "                x.struct.field(\"ESTRATO\"),\n",
    "                x.struct.field(\"ANIO_VIGENCIA\"),\n",
    "                x.struct.field(\"PERIODO_MES\"),\n",
    "                x.struct.field(\"CONSUMO_ENERGIA_SIN_SUBSIDIO\"),\n",
    "                x.struct.field(\"CONSUMO_KWH\")\n",
    "                                         )\n",
    "        )\n",
    "    ).alias(\"TESCC\"))"
   ]
  },
  {
   "cell_type": "code",
   "execution_count": 101,
   "id": "d1a59cbf",
   "metadata": {},
   "outputs": [
    {
     "data": {
      "text/html": [
       "<div><style>\n",
       ".dataframe > thead > tr > th,\n",
       ".dataframe > tbody > tr > td {\n",
       "  text-align: right;\n",
       "}\n",
       "</style>\n",
       "<small>shape: (5, 37)</small><table border=\"1\" class=\"dataframe\"><thead><tr><th>TIPO_DOCUMENTO</th><th>NUMERO_DOCUMENTO</th><th>DIGITO_VERIFICACION</th><th>PRIMER_NOMBRE_RAZON_SOCIAL</th><th>SEGUNDO_NOMBRE</th><th>PRIMER_APELLIDO</th><th>SEGUNDO_APELLIDO</th><th>NIU</th><th>NIC_CODIGO_ID</th><th>MEDIDOR</th><th>DIRECCION_ENVIO</th><th>CIUDAD_ENVIO</th><th>DIRECCION_SUMINISTRO</th><th>BARRIO_SUMINISTRO</th><th>CORREGIMIENTO_SUMINISTRO</th><th>MUNICIPIO_SUMINISTRO</th><th>MERCADO</th><th>SECTOR</th><th>DESTINO_ECONOMICO_PREDIO</th><th>ESTRATO</th><th>NUMERO_FACTURA</th><th>PERIODO_FACTURADO_INICIO</th><th>PERIODO_FACTURADO_FINAL</th><th>ANIO_VIGENCIA</th><th>PERIODO_MES</th><th>CICLO_FACTURACION</th><th>FECHA_VENCIMIENTO_FACTURA</th><th>CONSUMO_KWH</th><th>CONSUMO_KWH_SUBSIDIADO</th><th>CONSUMO_ENERGIA_SIN_SUBSIDIO</th><th>CONSUMO_ENERGIA_SUBSIDIADO</th><th>TARIFA_APLICADA_KWH</th><th>TARIFA_SUBSIDIADA_KWH</th><th>FICHA_CATASTRAL</th><th>CORREO_ELECTRONICO</th><th>OPERADOR</th><th>a+b+c</th></tr><tr><td>str</td><td>i64</td><td>i64</td><td>str</td><td>str</td><td>str</td><td>str</td><td>i64</td><td>i64</td><td>str</td><td>str</td><td>i64</td><td>str</td><td>str</td><td>str</td><td>i64</td><td>str</td><td>str</td><td>str</td><td>i64</td><td>i64</td><td>str</td><td>str</td><td>i64</td><td>i64</td><td>i64</td><td>str</td><td>f64</td><td>f64</td><td>f64</td><td>f64</td><td>f64</td><td>f64</td><td>i64</td><td>str</td><td>i64</td><td>i64</td></tr></thead><tbody><tr><td>&quot;NIT&quot;</td><td>890319982</td><td>8</td><td>&quot;COLEGIO COOPER…</td><td>null</td><td>null</td><td>null</td><td>1686181</td><td>1017843</td><td>&quot;U41A68052854&quot;</td><td>&quot;CL 18 128-233&quot;</td><td>76001</td><td>&quot;CL 18 128-233&quot;</td><td>&quot;LOS NARANJOS I…</td><td>null</td><td>76001</td><td>&quot;R&quot;</td><td>&quot;URBANO&quot;</td><td>&quot;ESPECIAL&quot;</td><td>99</td><td>331424038</td><td>&quot;07-01-2022&quot;</td><td>&quot;07-02-2022&quot;</td><td>2022</td><td>2</td><td>35</td><td>&quot;07-03-2022&quot;</td><td>6880.0</td><td>0.0</td><td>4.5827e6</td><td>4.5827e6</td><td>666.1</td><td>666.1</td><td>1</td><td>null</td><td>165</td><td>99</td></tr><tr><td>&quot;NIT&quot;</td><td>890319982</td><td>8</td><td>&quot;COLEGIO COOPER…</td><td>null</td><td>null</td><td>null</td><td>1686181</td><td>1017843</td><td>&quot;U41A68052854&quot;</td><td>&quot;CL 18 128-233&quot;</td><td>76001</td><td>&quot;CL 18 128-233&quot;</td><td>&quot;LOS NARANJOS I…</td><td>null</td><td>76001</td><td>&quot;R&quot;</td><td>&quot;URBANO&quot;</td><td>&quot;ESPECIAL&quot;</td><td>99</td><td>335672446</td><td>&quot;10-03-2022&quot;</td><td>&quot;08-04-2022&quot;</td><td>2022</td><td>4</td><td>35</td><td>&quot;04-05-2022&quot;</td><td>6360.0</td><td>0.0</td><td>4.5816e6</td><td>4.5816e6</td><td>720.38</td><td>720.38</td><td>1</td><td>null</td><td>165</td><td>99</td></tr><tr><td>&quot;NIT&quot;</td><td>890319982</td><td>8</td><td>&quot;COLEGIO COOPER…</td><td>null</td><td>null</td><td>null</td><td>1686181</td><td>1017843</td><td>&quot;U41A68052854&quot;</td><td>&quot;CL 18 128-233&quot;</td><td>76001</td><td>&quot;CL 18 128-233&quot;</td><td>&quot;LOS NARANJOS I…</td><td>null</td><td>76001</td><td>&quot;R&quot;</td><td>&quot;URBANO&quot;</td><td>&quot;ESPECIAL&quot;</td><td>99</td><td>337832857</td><td>&quot;09-04-2022&quot;</td><td>&quot;10-05-2022&quot;</td><td>2022</td><td>5</td><td>35</td><td>&quot;01-06-2022&quot;</td><td>4840.0</td><td>0.0</td><td>3.5215e6</td><td>3.5215e6</td><td>727.59</td><td>727.59</td><td>1</td><td>null</td><td>165</td><td>99</td></tr><tr><td>&quot;NIT&quot;</td><td>890319982</td><td>8</td><td>&quot;COLEGIO COOPER…</td><td>null</td><td>null</td><td>null</td><td>1686181</td><td>1017843</td><td>&quot;U41A68052854&quot;</td><td>&quot;CL 18 128-233&quot;</td><td>76001</td><td>&quot;CL 18 128-233&quot;</td><td>&quot;LOS NARANJOS I…</td><td>null</td><td>76001</td><td>&quot;R&quot;</td><td>&quot;URBANO&quot;</td><td>&quot;ESPECIAL&quot;</td><td>99</td><td>333629402</td><td>&quot;08-02-2022&quot;</td><td>&quot;09-03-2022&quot;</td><td>2022</td><td>3</td><td>35</td><td>&quot;01-04-2022&quot;</td><td>6920.0</td><td>0.0</td><td>4.7477e6</td><td>4.7477e6</td><td>686.08</td><td>686.08</td><td>1</td><td>null</td><td>165</td><td>99</td></tr><tr><td>&quot;NIT&quot;</td><td>890319982</td><td>8</td><td>&quot;COLEGIO COOPER…</td><td>null</td><td>null</td><td>null</td><td>1686188</td><td>1017845</td><td>&quot;ELEN60151808&quot;</td><td>&quot;CL 18 128-233 …</td><td>76001</td><td>&quot;CL 18 128-233 …</td><td>&quot;LOS NARANJOS I…</td><td>null</td><td>76001</td><td>&quot;R&quot;</td><td>&quot;URBANO&quot;</td><td>&quot;COMERCIAL&quot;</td><td>99</td><td>329523648</td><td>&quot;08-12-2021&quot;</td><td>&quot;06-01-2022&quot;</td><td>2022</td><td>1</td><td>35</td><td>&quot;01-02-2022&quot;</td><td>219.0</td><td>0.0</td><td>141626.14</td><td>141626.14</td><td>646.69</td><td>646.69</td><td>1</td><td>null</td><td>165</td><td>99</td></tr></tbody></table></div>"
      ],
      "text/plain": [
       "shape: (5, 37)\n",
       "┌────────────┬────────────┬────────────┬────────────┬───┬────────────┬────────────┬──────────┬───────┐\n",
       "│ TIPO_DOCUM ┆ NUMERO_DOC ┆ DIGITO_VER ┆ PRIMER_NOM ┆ … ┆ FICHA_CATA ┆ CORREO_ELE ┆ OPERADOR ┆ a+b+c │\n",
       "│ ENTO       ┆ UMENTO     ┆ IFICACION  ┆ BRE_RAZON_ ┆   ┆ STRAL      ┆ CTRONICO   ┆ ---      ┆ ---   │\n",
       "│ ---        ┆ ---        ┆ ---        ┆ SOCIAL     ┆   ┆ ---        ┆ ---        ┆ i64      ┆ i64   │\n",
       "│ str        ┆ i64        ┆ i64        ┆ ---        ┆   ┆ i64        ┆ str        ┆          ┆       │\n",
       "│            ┆            ┆            ┆ str        ┆   ┆            ┆            ┆          ┆       │\n",
       "╞════════════╪════════════╪════════════╪════════════╪═══╪════════════╪════════════╪══════════╪═══════╡\n",
       "│ NIT        ┆ 890319982  ┆ 8          ┆ COLEGIO    ┆ … ┆ 1          ┆ null       ┆ 165      ┆ 99    │\n",
       "│            ┆            ┆            ┆ COOPERATIV ┆   ┆            ┆            ┆          ┆       │\n",
       "│            ┆            ┆            ┆ O COOMEVA  ┆   ┆            ┆            ┆          ┆       │\n",
       "│ NIT        ┆ 890319982  ┆ 8          ┆ COLEGIO    ┆ … ┆ 1          ┆ null       ┆ 165      ┆ 99    │\n",
       "│            ┆            ┆            ┆ COOPERATIV ┆   ┆            ┆            ┆          ┆       │\n",
       "│            ┆            ┆            ┆ O COOMEVA  ┆   ┆            ┆            ┆          ┆       │\n",
       "│ NIT        ┆ 890319982  ┆ 8          ┆ COLEGIO    ┆ … ┆ 1          ┆ null       ┆ 165      ┆ 99    │\n",
       "│            ┆            ┆            ┆ COOPERATIV ┆   ┆            ┆            ┆          ┆       │\n",
       "│            ┆            ┆            ┆ O COOMEVA  ┆   ┆            ┆            ┆          ┆       │\n",
       "│ NIT        ┆ 890319982  ┆ 8          ┆ COLEGIO    ┆ … ┆ 1          ┆ null       ┆ 165      ┆ 99    │\n",
       "│            ┆            ┆            ┆ COOPERATIV ┆   ┆            ┆            ┆          ┆       │\n",
       "│            ┆            ┆            ┆ O COOMEVA  ┆   ┆            ┆            ┆          ┆       │\n",
       "│ NIT        ┆ 890319982  ┆ 8          ┆ COLEGIO    ┆ … ┆ 1          ┆ null       ┆ 165      ┆ 99    │\n",
       "│            ┆            ┆            ┆ COOPERATIV ┆   ┆            ┆            ┆          ┆       │\n",
       "│            ┆            ┆            ┆ O COOMEVA  ┆   ┆            ┆            ┆          ┆       │\n",
       "└────────────┴────────────┴────────────┴────────────┴───┴────────────┴────────────┴──────────┴───────┘"
      ]
     },
     "metadata": {},
     "output_type": "display_data"
    }
   ],
   "source": [
    "display(ft01_df.head())"
   ]
  },
  {
   "cell_type": "code",
   "execution_count": 58,
   "id": "159adc4b",
   "metadata": {},
   "outputs": [
    {
     "data": {
      "text/html": [
       "<div><style>\n",
       ".dataframe > thead > tr > th,\n",
       ".dataframe > tbody > tr > td {\n",
       "  text-align: right;\n",
       "}\n",
       "</style>\n",
       "<small>shape: (8, 1)</small><table border=\"1\" class=\"dataframe\"><thead><tr><th>CONSUMO_ENERGIA_SUBSIDIADO</th></tr><tr><td>str</td></tr></thead><tbody><tr><td>&quot;4582737.73&quot;</td></tr><tr><td>&quot;4581631.43&quot;</td></tr><tr><td>&quot;3521517.21&quot;</td></tr><tr><td>&quot;4747662.53&quot;</td></tr><tr><td>&quot;141626.14&quot;</td></tr><tr><td>&quot;2586778.8&quot;</td></tr><tr><td>&quot;3391924.9&quot;</td></tr><tr><td>&quot;4094854.54&quot;</td></tr></tbody></table></div>"
      ],
      "text/plain": [
       "shape: (8, 1)\n",
       "┌────────────────────────────┐\n",
       "│ CONSUMO_ENERGIA_SUBSIDIADO │\n",
       "│ ---                        │\n",
       "│ str                        │\n",
       "╞════════════════════════════╡\n",
       "│ 4582737.73                 │\n",
       "│ 4581631.43                 │\n",
       "│ 3521517.21                 │\n",
       "│ 4747662.53                 │\n",
       "│ 141626.14                  │\n",
       "│ 2586778.8                  │\n",
       "│ 3391924.9                  │\n",
       "│ 4094854.54                 │\n",
       "└────────────────────────────┘"
      ]
     },
     "metadata": {},
     "output_type": "display_data"
    }
   ],
   "source": [
    "display(ft01_df.select(\n",
    "    [\n",
    "        pl.format(\"{}\", pl.col(\"CONSUMO_ENERGIA_SUBSIDIADO\").round(2)),\n",
    "        ]\n",
    "    )\n",
    "       )"
   ]
  },
  {
   "cell_type": "code",
   "execution_count": 103,
   "id": "99f959ab",
   "metadata": {},
   "outputs": [
    {
     "name": "stdout",
     "output_type": "stream",
     "text": [
      "shape: (4, 4)\n",
      "┌─────────────┬───────┬────────────┬──────────┐\n",
      "│ market_date ┆ price ┆ order_date ┆ quantity │\n",
      "│ ---         ┆ ---   ┆ ---        ┆ ---      │\n",
      "│ date        ┆ f64   ┆ date       ┆ i64      │\n",
      "╞═════════════╪═══════╪════════════╪══════════╡\n",
      "│ 2022-01-01  ┆ 10.0  ┆ null       ┆ null     │\n",
      "│ 2022-02-01  ┆ 12.0  ┆ 2022-01-15 ┆ 2        │\n",
      "│ 2022-03-01  ┆ 14.0  ┆ 2022-01-15 ┆ 2        │\n",
      "│ 2022-03-01  ┆ 14.0  ┆ 2022-02-15 ┆ 5        │\n",
      "└─────────────┴───────┴────────────┴──────────┘\n"
     ]
    }
   ],
   "source": [
    "from polars import col\n",
    "from datetime import date\n",
    "\n",
    "stock_market_value = pl.DataFrame({\n",
    "    \"market_date\": [date(2022, 1, 1), date(2022, 2, 1), date(2022, 3, 1)],\n",
    "    \"price\": [10.00, 12.00, 14.00]\n",
    "})\n",
    "\n",
    "stock_market_orders = pl.DataFrame({\n",
    "    \"order_date\": [date(2022, 1, 15), date(2022, 2, 15)],\n",
    "    \"quantity\": [2, 5]\n",
    "})\n",
    "\n",
    "# use a backwards join-asof to find rows in market_value that have no rows in orders with order date < market date\n",
    "stock_market_value = stock_market_value.with_columns(\n",
    "        stock_market_value.join_asof(\n",
    "        stock_market_orders,\n",
    "        left_on=\"market_date\",\n",
    "        right_on=\"order_date\",\n",
    "    )[\"order_date\"].is_not_null().alias(\"has_match\")\n",
    ")\n",
    "nonmatched_rows = stock_market_value.filter(col(\"has_match\")==False).drop(\"has_match\")\n",
    "\n",
    "# keep all other rows and perform a cartesian product\n",
    "matched_rows = stock_market_value.filter(col(\"has_match\")==True).drop(\"has_match\")\n",
    "df = matched_rows.join(stock_market_orders, how=\"cross\")\n",
    "\n",
    "# filter based on our join condition\n",
    "df = df.filter(col(\"market_date\") > col(\"order_date\"))\n",
    "\n",
    "# concatenate the unmatched with the filtered result for our final answer\n",
    "df = pl.concat((nonmatched_rows, df), how=\"diagonal\")\n",
    "\n",
    "print(df)"
   ]
  },
  {
   "cell_type": "code",
   "execution_count": null,
   "id": "ce2e7048",
   "metadata": {},
   "outputs": [],
   "source": []
  },
  {
   "cell_type": "code",
   "execution_count": null,
   "id": "ca276a51",
   "metadata": {},
   "outputs": [],
   "source": []
  }
 ],
 "metadata": {
  "kernelspec": {
   "display_name": "Python 3 (ipykernel)",
   "language": "python",
   "name": "python3"
  },
  "language_info": {
   "codemirror_mode": {
    "name": "ipython",
    "version": 3
   },
   "file_extension": ".py",
   "mimetype": "text/x-python",
   "name": "python",
   "nbconvert_exporter": "python",
   "pygments_lexer": "ipython3",
   "version": "3.10.9"
  }
 },
 "nbformat": 4,
 "nbformat_minor": 5
}
