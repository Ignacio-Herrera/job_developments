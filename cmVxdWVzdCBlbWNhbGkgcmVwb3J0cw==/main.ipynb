{
 "cells": [
  {
   "cell_type": "markdown",
   "id": "5aa0d617",
   "metadata": {},
   "source": [
    "# Python / Polars (portfolio calculation FT01.FT03)"
   ]
  },
  {
   "cell_type": "markdown",
   "id": "96eceb5c",
   "metadata": {},
   "source": [
    "## libs"
   ]
  },
  {
   "cell_type": "code",
   "execution_count": 4,
   "id": "fe745c70",
   "metadata": {},
   "outputs": [],
   "source": [
    "import polars as pl\n",
    "from datetime import datetime"
   ]
  },
  {
   "cell_type": "markdown",
   "id": "376aba4f",
   "metadata": {},
   "source": [
    "## read files"
   ]
  },
  {
   "cell_type": "markdown",
   "id": "395078bf",
   "metadata": {},
   "source": [
    "### ft03"
   ]
  },
  {
   "cell_type": "code",
   "execution_count": 12,
   "id": "d5c36016",
   "metadata": {},
   "outputs": [
    {
     "name": "stdout",
     "output_type": "stream",
     "text": [
      "object type: <class 'polars.dataframe.frame.DataFrame'>\n",
      "data dimension: (40541, 10)\n"
     ]
    },
    {
     "data": {
      "text/html": [
       "<div><style>\n",
       ".dataframe > thead > tr > th,\n",
       ".dataframe > tbody > tr > td {\n",
       "  text-align: right;\n",
       "}\n",
       "</style>\n",
       "<small>shape: (5, 10)</small><table border=\"1\" class=\"dataframe\"><thead><tr><th>NUMERO_DOCUMENTO</th><th>DIGITO_VERIFICACION</th><th>NIU</th><th>NIC_CODIGO_ID</th><th>NUMERO_FACTURA</th><th>VALOR_FACTURADO_TASA_SEGURIDAD</th><th>VALOR_INTERESES</th><th>FECHA_LIMITE_PAGO</th><th>VALOR_RECAUDO</th><th>FECHA_RECAUDO</th></tr><tr><td>i64</td><td>str</td><td>i64</td><td>i64</td><td>i64</td><td>f64</td><td>f64</td><td>str</td><td>f64</td><td>str</td></tr></thead><tbody><tr><td>16623043</td><td>null</td><td>151314</td><td>93464</td><td>354013788</td><td>0.0</td><td>0.0</td><td>&quot;18-01-2023&quot;</td><td>11.86</td><td>&quot;26-01-2023&quot;</td></tr><tr><td>2557306</td><td>null</td><td>129355</td><td>87059</td><td>354009198</td><td>0.0</td><td>0.0</td><td>&quot;18-01-2023&quot;</td><td>6183.52</td><td>&quot;26-01-2023&quot;</td></tr><tr><td>31266414</td><td>null</td><td>127938</td><td>86753</td><td>354009047</td><td>1900.2</td><td>0.0</td><td>&quot;18-01-2023&quot;</td><td>1900.2</td><td>&quot;13-01-2023&quot;</td></tr><tr><td>16625223</td><td>null</td><td>128074</td><td>86782</td><td>354009049</td><td>3844.17</td><td>0.0</td><td>&quot;18-01-2023&quot;</td><td>3844.17</td><td>&quot;18-01-2023&quot;</td></tr><tr><td>34592014</td><td>null</td><td>127956</td><td>86757</td><td>354009050</td><td>3001.41</td><td>0.0</td><td>&quot;18-01-2023&quot;</td><td>3001.41</td><td>&quot;18-01-2023&quot;</td></tr></tbody></table></div>"
      ],
      "text/plain": [
       "shape: (5, 10)\n",
       "┌────────────┬────────────┬────────┬────────────┬───┬────────────┬────────────┬────────────┬────────────┐\n",
       "│ NUMERO_DOC ┆ DIGITO_VER ┆ NIU    ┆ NIC_CODIGO ┆ … ┆ VALOR_INTE ┆ FECHA_LIMI ┆ VALOR_RECA ┆ FECHA_RECA │\n",
       "│ UMENTO     ┆ IFICACION  ┆ ---    ┆ _ID        ┆   ┆ RESES      ┆ TE_PAGO    ┆ UDO        ┆ UDO        │\n",
       "│ ---        ┆ ---        ┆ i64    ┆ ---        ┆   ┆ ---        ┆ ---        ┆ ---        ┆ ---        │\n",
       "│ i64        ┆ str        ┆        ┆ i64        ┆   ┆ f64        ┆ str        ┆ f64        ┆ str        │\n",
       "╞════════════╪════════════╪════════╪════════════╪═══╪════════════╪════════════╪════════════╪════════════╡\n",
       "│ 16623043   ┆ null       ┆ 151314 ┆ 93464      ┆ … ┆ 0.0        ┆ 18-01-2023 ┆ 11.86      ┆ 26-01-2023 │\n",
       "│ 2557306    ┆ null       ┆ 129355 ┆ 87059      ┆ … ┆ 0.0        ┆ 18-01-2023 ┆ 6183.52    ┆ 26-01-2023 │\n",
       "│ 31266414   ┆ null       ┆ 127938 ┆ 86753      ┆ … ┆ 0.0        ┆ 18-01-2023 ┆ 1900.2     ┆ 13-01-2023 │\n",
       "│ 16625223   ┆ null       ┆ 128074 ┆ 86782      ┆ … ┆ 0.0        ┆ 18-01-2023 ┆ 3844.17    ┆ 18-01-2023 │\n",
       "│ 34592014   ┆ null       ┆ 127956 ┆ 86757      ┆ … ┆ 0.0        ┆ 18-01-2023 ┆ 3001.41    ┆ 18-01-2023 │\n",
       "└────────────┴────────────┴────────┴────────────┴───┴────────────┴────────────┴────────────┴────────────┘"
      ]
     },
     "metadata": {},
     "output_type": "display_data"
    }
   ],
   "source": [
    "# ft03 input\n",
    "file_url_ft03 = (\n",
    "    \"files/input/20230214220009_890399003_2023_01_FT03_03.csv\"\n",
    ")\n",
    "ft03_df = pl.read_csv(file_url_ft03, separator= \"|\", has_header= False)\n",
    "\n",
    "# ft03 rename\n",
    "ft03_df = ft03_df.rename({\"column_1\": \"NUMERO_DOCUMENTO\"})\n",
    "ft03_df = ft03_df.rename({\"column_2\": \"DIGITO_VERIFICACION\"})\n",
    "ft03_df = ft03_df.rename({\"column_3\": \"NIU\"})\n",
    "ft03_df = ft03_df.rename({\"column_4\": \"NIC_CODIGO_ID\"})\n",
    "ft03_df = ft03_df.rename({\"column_5\": \"NUMERO_FACTURA\"})\n",
    "ft03_df = ft03_df.rename({\"column_6\": \"VALOR_FACTURADO_TASA_SEGURIDAD\"})\n",
    "ft03_df = ft03_df.rename({\"column_7\": \"VALOR_INTERESES\"})\n",
    "ft03_df = ft03_df.rename({\"column_8\": \"FECHA_LIMITE_PAGO\"})\n",
    "ft03_df = ft03_df.rename({\"column_9\": \"VALOR_RECAUDO\"})\n",
    "ft03_df = ft03_df.rename({\"column_10\": \"FECHA_RECAUDO\"})\n",
    "\n",
    "print(f\"object type: {type(ft03_df)}\")\n",
    "print(f\"data dimension: {ft03_df.shape}\")\n",
    "display(ft03_df.head())"
   ]
  },
  {
   "cell_type": "markdown",
   "id": "b39c10f5",
   "metadata": {},
   "source": [
    "### ft01"
   ]
  },
  {
   "cell_type": "code",
   "execution_count": 15,
   "id": "744ffe3a",
   "metadata": {},
   "outputs": [
    {
     "name": "stdout",
     "output_type": "stream",
     "text": [
      "object type: <class 'polars.dataframe.frame.DataFrame'>\n",
      "data dimension: (8, 36)\n"
     ]
    },
    {
     "data": {
      "text/html": [
       "<div><style>\n",
       ".dataframe > thead > tr > th,\n",
       ".dataframe > tbody > tr > td {\n",
       "  text-align: right;\n",
       "}\n",
       "</style>\n",
       "<small>shape: (5, 36)</small><table border=\"1\" class=\"dataframe\"><thead><tr><th>TIPO_DOCUMENTO</th><th>NUMERO_DOCUMENTO</th><th>DIGITO_VERIFICACION</th><th>PRIMER_NOMBRE_RAZON_SOCIAL</th><th>SEGUNDO_NOMBRE</th><th>PRIMER_APELLIDO</th><th>SEGUNDO_APELLIDO</th><th>NIU</th><th>NIC_CODIGO_ID</th><th>MEDIDOR</th><th>DIRECCION_ENVIO</th><th>CIUDAD_ENVIO</th><th>DIRECCION_SUMINISTRO</th><th>BARRIO_SUMINISTRO</th><th>CORREGIMIENTO_SUMINISTRO</th><th>MUNICIPIO_SUMINISTRO</th><th>MERCADO</th><th>SECTOR</th><th>DESTINO_ECONOMICO_PREDIO</th><th>ESTRATO</th><th>NUMERO_FACTURA</th><th>PERIODO_FACTURADO_INICIO</th><th>PERIODO_FACTURADO_FINAL</th><th>AÑO_VIGENCIA</th><th>PERIODO_MES</th><th>CICLO_FACTURACION</th><th>FECHA_VENCIMIENTO_FACTURA</th><th>CONSUMO_KWH</th><th>CONSUMO_KWH_SUBSIDIADO</th><th>CONSUMO_ENERGIA_SIN_SUBSIDIO</th><th>CONSUMO_ENERGIA_SUBSIDIADO</th><th>TARIFA_APLICADA_KWH</th><th>TARIFA_SUBSIDIADA_KWH</th><th>FICHA_CATASTRAL</th><th>CORREO_ELECTRONICO</th><th>OPERADOR</th></tr><tr><td>str</td><td>i64</td><td>i64</td><td>str</td><td>str</td><td>str</td><td>str</td><td>i64</td><td>i64</td><td>str</td><td>str</td><td>i64</td><td>str</td><td>str</td><td>str</td><td>i64</td><td>str</td><td>str</td><td>str</td><td>i64</td><td>i64</td><td>str</td><td>str</td><td>i64</td><td>i64</td><td>i64</td><td>str</td><td>f64</td><td>f64</td><td>f64</td><td>f64</td><td>f64</td><td>f64</td><td>i64</td><td>str</td><td>i64</td></tr></thead><tbody><tr><td>&quot;NIT&quot;</td><td>890319982</td><td>8</td><td>&quot;COLEGIO COOPER…</td><td>null</td><td>null</td><td>null</td><td>1686181</td><td>1017843</td><td>&quot;U41A68052854&quot;</td><td>&quot;CL 18 128-233&quot;</td><td>76001</td><td>&quot;CL 18 128-233&quot;</td><td>&quot;LOS NARANJOS I…</td><td>null</td><td>76001</td><td>&quot;R&quot;</td><td>&quot;URBANO&quot;</td><td>&quot;ESPECIAL&quot;</td><td>99</td><td>331424038</td><td>&quot;07-01-2022&quot;</td><td>&quot;07-02-2022&quot;</td><td>2022</td><td>2</td><td>35</td><td>&quot;07-03-2022&quot;</td><td>6880.0</td><td>0.0</td><td>4.5827e6</td><td>4.5827e6</td><td>666.1</td><td>666.1</td><td>1</td><td>null</td><td>165</td></tr><tr><td>&quot;NIT&quot;</td><td>890319982</td><td>8</td><td>&quot;COLEGIO COOPER…</td><td>null</td><td>null</td><td>null</td><td>1686181</td><td>1017843</td><td>&quot;U41A68052854&quot;</td><td>&quot;CL 18 128-233&quot;</td><td>76001</td><td>&quot;CL 18 128-233&quot;</td><td>&quot;LOS NARANJOS I…</td><td>null</td><td>76001</td><td>&quot;R&quot;</td><td>&quot;URBANO&quot;</td><td>&quot;ESPECIAL&quot;</td><td>99</td><td>335672446</td><td>&quot;10-03-2022&quot;</td><td>&quot;08-04-2022&quot;</td><td>2022</td><td>4</td><td>35</td><td>&quot;04-05-2022&quot;</td><td>6360.0</td><td>0.0</td><td>4.5816e6</td><td>4.5816e6</td><td>720.38</td><td>720.38</td><td>1</td><td>null</td><td>165</td></tr><tr><td>&quot;NIT&quot;</td><td>890319982</td><td>8</td><td>&quot;COLEGIO COOPER…</td><td>null</td><td>null</td><td>null</td><td>1686181</td><td>1017843</td><td>&quot;U41A68052854&quot;</td><td>&quot;CL 18 128-233&quot;</td><td>76001</td><td>&quot;CL 18 128-233&quot;</td><td>&quot;LOS NARANJOS I…</td><td>null</td><td>76001</td><td>&quot;R&quot;</td><td>&quot;URBANO&quot;</td><td>&quot;ESPECIAL&quot;</td><td>99</td><td>337832857</td><td>&quot;09-04-2022&quot;</td><td>&quot;10-05-2022&quot;</td><td>2022</td><td>5</td><td>35</td><td>&quot;01-06-2022&quot;</td><td>4840.0</td><td>0.0</td><td>3.5215e6</td><td>3.5215e6</td><td>727.59</td><td>727.59</td><td>1</td><td>null</td><td>165</td></tr><tr><td>&quot;NIT&quot;</td><td>890319982</td><td>8</td><td>&quot;COLEGIO COOPER…</td><td>null</td><td>null</td><td>null</td><td>1686181</td><td>1017843</td><td>&quot;U41A68052854&quot;</td><td>&quot;CL 18 128-233&quot;</td><td>76001</td><td>&quot;CL 18 128-233&quot;</td><td>&quot;LOS NARANJOS I…</td><td>null</td><td>76001</td><td>&quot;R&quot;</td><td>&quot;URBANO&quot;</td><td>&quot;ESPECIAL&quot;</td><td>99</td><td>333629402</td><td>&quot;08-02-2022&quot;</td><td>&quot;09-03-2022&quot;</td><td>2022</td><td>3</td><td>35</td><td>&quot;01-04-2022&quot;</td><td>6920.0</td><td>0.0</td><td>4.7477e6</td><td>4.7477e6</td><td>686.08</td><td>686.08</td><td>1</td><td>null</td><td>165</td></tr><tr><td>&quot;NIT&quot;</td><td>890319982</td><td>8</td><td>&quot;COLEGIO COOPER…</td><td>null</td><td>null</td><td>null</td><td>1686188</td><td>1017845</td><td>&quot;ELEN60151808&quot;</td><td>&quot;CL 18 128-233 …</td><td>76001</td><td>&quot;CL 18 128-233 …</td><td>&quot;LOS NARANJOS I…</td><td>null</td><td>76001</td><td>&quot;R&quot;</td><td>&quot;URBANO&quot;</td><td>&quot;COMERCIAL&quot;</td><td>99</td><td>329523648</td><td>&quot;08-12-2021&quot;</td><td>&quot;06-01-2022&quot;</td><td>2022</td><td>1</td><td>35</td><td>&quot;01-02-2022&quot;</td><td>219.0</td><td>0.0</td><td>141626.14</td><td>141626.14</td><td>646.69</td><td>646.69</td><td>1</td><td>null</td><td>165</td></tr></tbody></table></div>"
      ],
      "text/plain": [
       "shape: (5, 36)\n",
       "┌────────────┬────────────┬────────────┬────────────┬───┬────────────┬────────────┬────────────┬──────────┐\n",
       "│ TIPO_DOCUM ┆ NUMERO_DOC ┆ DIGITO_VER ┆ PRIMER_NOM ┆ … ┆ TARIFA_SUB ┆ FICHA_CATA ┆ CORREO_ELE ┆ OPERADOR │\n",
       "│ ENTO       ┆ UMENTO     ┆ IFICACION  ┆ BRE_RAZON_ ┆   ┆ SIDIADA_KW ┆ STRAL      ┆ CTRONICO   ┆ ---      │\n",
       "│ ---        ┆ ---        ┆ ---        ┆ SOCIAL     ┆   ┆ H          ┆ ---        ┆ ---        ┆ i64      │\n",
       "│ str        ┆ i64        ┆ i64        ┆ ---        ┆   ┆ ---        ┆ i64        ┆ str        ┆          │\n",
       "│            ┆            ┆            ┆ str        ┆   ┆ f64        ┆            ┆            ┆          │\n",
       "╞════════════╪════════════╪════════════╪════════════╪═══╪════════════╪════════════╪════════════╪══════════╡\n",
       "│ NIT        ┆ 890319982  ┆ 8          ┆ COLEGIO    ┆ … ┆ 666.1      ┆ 1          ┆ null       ┆ 165      │\n",
       "│            ┆            ┆            ┆ COOPERATIV ┆   ┆            ┆            ┆            ┆          │\n",
       "│            ┆            ┆            ┆ O COOMEVA  ┆   ┆            ┆            ┆            ┆          │\n",
       "│ NIT        ┆ 890319982  ┆ 8          ┆ COLEGIO    ┆ … ┆ 720.38     ┆ 1          ┆ null       ┆ 165      │\n",
       "│            ┆            ┆            ┆ COOPERATIV ┆   ┆            ┆            ┆            ┆          │\n",
       "│            ┆            ┆            ┆ O COOMEVA  ┆   ┆            ┆            ┆            ┆          │\n",
       "│ NIT        ┆ 890319982  ┆ 8          ┆ COLEGIO    ┆ … ┆ 727.59     ┆ 1          ┆ null       ┆ 165      │\n",
       "│            ┆            ┆            ┆ COOPERATIV ┆   ┆            ┆            ┆            ┆          │\n",
       "│            ┆            ┆            ┆ O COOMEVA  ┆   ┆            ┆            ┆            ┆          │\n",
       "│ NIT        ┆ 890319982  ┆ 8          ┆ COLEGIO    ┆ … ┆ 686.08     ┆ 1          ┆ null       ┆ 165      │\n",
       "│            ┆            ┆            ┆ COOPERATIV ┆   ┆            ┆            ┆            ┆          │\n",
       "│            ┆            ┆            ┆ O COOMEVA  ┆   ┆            ┆            ┆            ┆          │\n",
       "│ NIT        ┆ 890319982  ┆ 8          ┆ COLEGIO    ┆ … ┆ 646.69     ┆ 1          ┆ null       ┆ 165      │\n",
       "│            ┆            ┆            ┆ COOPERATIV ┆   ┆            ┆            ┆            ┆          │\n",
       "│            ┆            ┆            ┆ O COOMEVA  ┆   ┆            ┆            ┆            ┆          │\n",
       "└────────────┴────────────┴────────────┴────────────┴───┴────────────┴────────────┴────────────┴──────────┘"
      ]
     },
     "metadata": {},
     "output_type": "display_data"
    }
   ],
   "source": [
    "# ft01 input\n",
    "file_url_ft01 = (\n",
    "    \"files/input/FT01_EMCALI_-_PARA_FACTURAR_ENERO_A_JULIO_2022_COLEGIO_COOMEVA.txt\"\n",
    ")\n",
    "ft01_df = pl.read_csv(file_url_ft01, separator= \"|\", has_header= False)\n",
    "\n",
    "# ft01 rename\n",
    "ft01_df = ft01_df.rename({\"column_1\": \"TIPO_DOCUMENTO\"})\n",
    "ft01_df = ft01_df.rename({\"column_2\": \"NUMERO_DOCUMENTO\"})\n",
    "ft01_df = ft01_df.rename({\"column_3\": \"DIGITO_VERIFICACION\"})\n",
    "ft01_df = ft01_df.rename({\"column_4\": \"PRIMER_NOMBRE_RAZON_SOCIAL\"})\n",
    "ft01_df = ft01_df.rename({\"column_5\": \"SEGUNDO_NOMBRE\"})\n",
    "ft01_df = ft01_df.rename({\"column_6\": \"PRIMER_APELLIDO\"})\n",
    "ft01_df = ft01_df.rename({\"column_7\": \"SEGUNDO_APELLIDO\"})\n",
    "ft01_df = ft01_df.rename({\"column_8\": \"NIU\"})\n",
    "ft01_df = ft01_df.rename({\"column_9\": \"NIC_CODIGO_ID\"})\n",
    "ft01_df = ft01_df.rename({\"column_10\": \"MEDIDOR\"})\n",
    "ft01_df = ft01_df.rename({\"column_11\": \"DIRECCION_ENVIO\"})\n",
    "ft01_df = ft01_df.rename({\"column_12\": \"CIUDAD_ENVIO\"})\n",
    "ft01_df = ft01_df.rename({\"column_13\": \"DIRECCION_SUMINISTRO\"})\n",
    "ft01_df = ft01_df.rename({\"column_14\": \"BARRIO_SUMINISTRO\"})\n",
    "ft01_df = ft01_df.rename({\"column_15\": \"CORREGIMIENTO_SUMINISTRO\"})\n",
    "ft01_df = ft01_df.rename({\"column_16\": \"MUNICIPIO_SUMINISTRO\"})\n",
    "ft01_df = ft01_df.rename({\"column_17\": \"MERCADO\"})\n",
    "ft01_df = ft01_df.rename({\"column_18\": \"SECTOR\"})\n",
    "ft01_df = ft01_df.rename({\"column_19\": \"DESTINO_ECONOMICO_PREDIO\"})\n",
    "ft01_df = ft01_df.rename({\"column_20\": \"ESTRATO\"})\n",
    "ft01_df = ft01_df.rename({\"column_21\": \"NUMERO_FACTURA\"})\n",
    "ft01_df = ft01_df.rename({\"column_22\": \"PERIODO_FACTURADO_INICIO\"})\n",
    "ft01_df = ft01_df.rename({\"column_23\": \"PERIODO_FACTURADO_FINAL\"})\n",
    "ft01_df = ft01_df.rename({\"column_24\": \"AÑO_VIGENCIA\"})\n",
    "ft01_df = ft01_df.rename({\"column_25\": \"PERIODO_MES\"})\n",
    "ft01_df = ft01_df.rename({\"column_26\": \"CICLO_FACTURACION\"})\n",
    "ft01_df = ft01_df.rename({\"column_27\": \"FECHA_VENCIMIENTO_FACTURA\"})\n",
    "ft01_df = ft01_df.rename({\"column_28\": \"CONSUMO_KWH\"})\n",
    "ft01_df = ft01_df.rename({\"column_29\": \"CONSUMO_KWH_SUBSIDIADO\"})\n",
    "ft01_df = ft01_df.rename({\"column_30\": \"CONSUMO_ENERGIA_SIN_SUBSIDIO\"})\n",
    "ft01_df = ft01_df.rename({\"column_31\": \"CONSUMO_ENERGIA_SUBSIDIADO\"})\n",
    "ft01_df = ft01_df.rename({\"column_32\": \"TARIFA_APLICADA_KWH\"})\n",
    "ft01_df = ft01_df.rename({\"column_33\": \"TARIFA_SUBSIDIADA_KWH\"})\n",
    "ft01_df = ft01_df.rename({\"column_34\": \"FICHA_CATASTRAL\"})\n",
    "ft01_df = ft01_df.rename({\"column_35\": \"CORREO_ELECTRONICO\"})\n",
    "ft01_df = ft01_df.rename({\"column_36\": \"OPERADOR\"})\n",
    "\n",
    "print(f\"object type: {type(ft01_df)}\")\n",
    "print(f\"data dimension: {ft01_df.shape}\")\n",
    "display(ft01_df.head())"
   ]
  },
  {
   "cell_type": "code",
   "execution_count": null,
   "id": "f28b6387",
   "metadata": {},
   "outputs": [],
   "source": []
  }
 ],
 "metadata": {
  "kernelspec": {
   "display_name": "Python 3 (ipykernel)",
   "language": "python",
   "name": "python3"
  },
  "language_info": {
   "codemirror_mode": {
    "name": "ipython",
    "version": 3
   },
   "file_extension": ".py",
   "mimetype": "text/x-python",
   "name": "python",
   "nbconvert_exporter": "python",
   "pygments_lexer": "ipython3",
   "version": "3.10.9"
  }
 },
 "nbformat": 4,
 "nbformat_minor": 5
}
